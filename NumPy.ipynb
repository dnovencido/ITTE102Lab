{
 "cells": [
  {
   "cell_type": "markdown",
   "id": "f3a4361e",
   "metadata": {},
   "source": [
    "<h2>Introduction to NumPy Library</h2>"
   ]
  },
  {
   "cell_type": "markdown",
   "id": "2b48d48a",
   "metadata": {},
   "source": [
    "<b>Import numpy library</b>"
   ]
  },
  {
   "cell_type": "code",
   "execution_count": 4,
   "id": "e002ade6",
   "metadata": {},
   "outputs": [],
   "source": [
    "import numpy as np"
   ]
  },
  {
   "cell_type": "markdown",
   "id": "24352234",
   "metadata": {},
   "source": [
    "<b> Create a 2D ndarray </b>"
   ]
  },
  {
   "cell_type": "code",
   "execution_count": 5,
   "id": "eba7063f",
   "metadata": {},
   "outputs": [],
   "source": [
    "array = np.array([[1,2,3],[4,5,6]])"
   ]
  },
  {
   "cell_type": "code",
   "execution_count": 6,
   "id": "5575e96c",
   "metadata": {},
   "outputs": [
    {
     "data": {
      "text/plain": [
       "(2, 3)"
      ]
     },
     "execution_count": 6,
     "metadata": {},
     "output_type": "execute_result"
    }
   ],
   "source": [
    "array.shape"
   ]
  },
  {
   "cell_type": "code",
   "execution_count": 7,
   "id": "8496bf4e",
   "metadata": {},
   "outputs": [
    {
     "data": {
      "text/plain": [
       "dtype('int64')"
      ]
     },
     "execution_count": 7,
     "metadata": {},
     "output_type": "execute_result"
    }
   ],
   "source": [
    "array.dtype"
   ]
  },
  {
   "cell_type": "markdown",
   "id": "ec3ab448",
   "metadata": {},
   "source": [
    "<b>Convert a normal array in Python to ndarray.</b>"
   ]
  },
  {
   "cell_type": "code",
   "execution_count": 8,
   "id": "bbe2623f",
   "metadata": {},
   "outputs": [],
   "source": [
    "data = [1, 1.5, 2, 2.5, 3]"
   ]
  },
  {
   "cell_type": "code",
   "execution_count": 9,
   "id": "b380d139",
   "metadata": {},
   "outputs": [],
   "source": [
    "array_1 = np.array(data)"
   ]
  },
  {
   "cell_type": "code",
   "execution_count": 10,
   "id": "b88cf9d7",
   "metadata": {},
   "outputs": [
    {
     "data": {
      "text/plain": [
       "array([1. , 1.5, 2. , 2.5, 3. ])"
      ]
     },
     "execution_count": 10,
     "metadata": {},
     "output_type": "execute_result"
    }
   ],
   "source": [
    "array_1"
   ]
  },
  {
   "cell_type": "markdown",
   "id": "61d6d2d6-6fc6-4325-886e-46c1309bf776",
   "metadata": {},
   "source": [
    "<b> Reshaping the ndarrays </b>"
   ]
  },
  {
   "cell_type": "code",
   "execution_count": 11,
   "id": "fe053c53-5c27-4ab6-8af2-231293ae724b",
   "metadata": {},
   "outputs": [],
   "source": [
    "array = np.array([1, 2, 3, 4, 5, 6])"
   ]
  },
  {
   "cell_type": "code",
   "execution_count": 12,
   "id": "c4fd3280-765e-461d-9123-c86457c69078",
   "metadata": {},
   "outputs": [
    {
     "data": {
      "text/plain": [
       "array([1, 2, 3, 4, 5, 6])"
      ]
     },
     "execution_count": 12,
     "metadata": {},
     "output_type": "execute_result"
    }
   ],
   "source": [
    "array"
   ]
  },
  {
   "cell_type": "code",
   "execution_count": 13,
   "id": "6a40bfed-48fb-4594-91f9-f83376346cc7",
   "metadata": {},
   "outputs": [
    {
     "data": {
      "text/plain": [
       "array([1, 2, 3, 4, 5, 6])"
      ]
     },
     "execution_count": 13,
     "metadata": {},
     "output_type": "execute_result"
    }
   ],
   "source": [
    "array.reshape(6)"
   ]
  },
  {
   "cell_type": "markdown",
   "id": "c6ddb71b",
   "metadata": {},
   "source": [
    "Reshaping an array into a 1-dimensional array with 6 elements."
   ]
  },
  {
   "cell_type": "code",
   "execution_count": 14,
   "id": "931bcd2f-b4d4-4e0f-b9d9-7cd9d0ebfa33",
   "metadata": {},
   "outputs": [
    {
     "data": {
      "text/plain": [
       "array([[1, 2],\n",
       "       [3, 4],\n",
       "       [5, 6]])"
      ]
     },
     "execution_count": 14,
     "metadata": {},
     "output_type": "execute_result"
    }
   ],
   "source": [
    "array.reshape(3,2)"
   ]
  },
  {
   "cell_type": "markdown",
   "id": "d35e9646",
   "metadata": {},
   "source": [
    "Reshape it to a 2-dimensional array with 3 rows and 2 columns."
   ]
  },
  {
   "cell_type": "code",
   "execution_count": 15,
   "id": "a9b32159-0fa3-4ef3-9bf7-2a64ac0f524d",
   "metadata": {},
   "outputs": [
    {
     "data": {
      "text/plain": [
       "array([[[1],\n",
       "        [2]],\n",
       "\n",
       "       [[3],\n",
       "        [4]],\n",
       "\n",
       "       [[5],\n",
       "        [6]]])"
      ]
     },
     "execution_count": 15,
     "metadata": {},
     "output_type": "execute_result"
    }
   ],
   "source": [
    "array.reshape(3,2,1)"
   ]
  },
  {
   "cell_type": "markdown",
   "id": "0484ed3b",
   "metadata": {},
   "source": [
    "Reshape it into a 3-dimensional array with shape (3, 2, 1)."
   ]
  },
  {
   "cell_type": "markdown",
   "id": "01bbe8b0",
   "metadata": {},
   "source": [
    "<b>Indexing and Slicing</b>"
   ]
  },
  {
   "cell_type": "code",
   "execution_count": 16,
   "id": "9ba38b1c",
   "metadata": {},
   "outputs": [],
   "source": [
    "array = np.arange(10)"
   ]
  },
  {
   "cell_type": "markdown",
   "id": "c65ad2f9",
   "metadata": {},
   "source": [
    "The <b>arange(start,stop,step)</b> function creates arrays with evenly spaced values within a given range. <br>\n",
    "<b>start</b> - the starting value of the sequence. <br>\n",
    "<b>stop</b> - is the end value (the sequence will not include this value). <br>\n",
    "<b>step</b> - is the spacing between values."
   ]
  },
  {
   "cell_type": "code",
   "execution_count": 17,
   "id": "fd8e4f5c",
   "metadata": {},
   "outputs": [
    {
     "data": {
      "text/plain": [
       "array([0, 1, 2, 3, 4, 5, 6, 7, 8, 9])"
      ]
     },
     "execution_count": 17,
     "metadata": {},
     "output_type": "execute_result"
    }
   ],
   "source": [
    "array"
   ]
  },
  {
   "cell_type": "code",
   "execution_count": 18,
   "id": "e0bf0d61",
   "metadata": {},
   "outputs": [
    {
     "data": {
      "text/plain": [
       "5"
      ]
     },
     "execution_count": 18,
     "metadata": {},
     "output_type": "execute_result"
    }
   ],
   "source": [
    "array[5]"
   ]
  },
  {
   "cell_type": "code",
   "execution_count": 19,
   "id": "e2c42eff",
   "metadata": {},
   "outputs": [
    {
     "data": {
      "text/plain": [
       "array([5, 6, 7])"
      ]
     },
     "execution_count": 19,
     "metadata": {},
     "output_type": "execute_result"
    }
   ],
   "source": [
    "array[5:8]"
   ]
  },
  {
   "cell_type": "code",
   "execution_count": 20,
   "id": "a4e5c299",
   "metadata": {},
   "outputs": [],
   "source": [
    "array[5:8] = 12"
   ]
  },
  {
   "cell_type": "code",
   "execution_count": 21,
   "id": "6733f6ed",
   "metadata": {},
   "outputs": [
    {
     "data": {
      "text/plain": [
       "array([ 0,  1,  2,  3,  4, 12, 12, 12,  8,  9])"
      ]
     },
     "execution_count": 21,
     "metadata": {},
     "output_type": "execute_result"
    }
   ],
   "source": [
    "array"
   ]
  },
  {
   "cell_type": "code",
   "execution_count": 22,
   "id": "211db580",
   "metadata": {},
   "outputs": [],
   "source": [
    "array_slice = array[5:8]"
   ]
  },
  {
   "cell_type": "code",
   "execution_count": 23,
   "id": "4d9ffcb7",
   "metadata": {},
   "outputs": [
    {
     "data": {
      "text/plain": [
       "array([12, 12, 12])"
      ]
     },
     "execution_count": 23,
     "metadata": {},
     "output_type": "execute_result"
    }
   ],
   "source": [
    "array_slice"
   ]
  },
  {
   "cell_type": "code",
   "execution_count": 24,
   "id": "2155a83c",
   "metadata": {},
   "outputs": [],
   "source": [
    "array_slice[:] = 64"
   ]
  },
  {
   "cell_type": "code",
   "execution_count": 25,
   "id": "b9837457",
   "metadata": {},
   "outputs": [
    {
     "data": {
      "text/plain": [
       "array([ 0,  1,  2,  3,  4, 64, 64, 64,  8,  9])"
      ]
     },
     "execution_count": 25,
     "metadata": {},
     "output_type": "execute_result"
    }
   ],
   "source": [
    "array"
   ]
  },
  {
   "cell_type": "markdown",
   "id": "d4f24fc3",
   "metadata": {},
   "source": [
    "<b>Arithmetic Operations</b>"
   ]
  },
  {
   "cell_type": "code",
   "execution_count": 26,
   "id": "27df831f",
   "metadata": {},
   "outputs": [],
   "source": [
    "array = np.array([[1, 2, 3],[4, 5, 6]])"
   ]
  },
  {
   "cell_type": "code",
   "execution_count": 27,
   "id": "04a9e028",
   "metadata": {},
   "outputs": [
    {
     "data": {
      "text/plain": [
       "array([[1, 2, 3],\n",
       "       [4, 5, 6]])"
      ]
     },
     "execution_count": 27,
     "metadata": {},
     "output_type": "execute_result"
    }
   ],
   "source": [
    "array"
   ]
  },
  {
   "cell_type": "code",
   "execution_count": 28,
   "id": "5110f92a",
   "metadata": {},
   "outputs": [
    {
     "data": {
      "text/plain": [
       "array([[ 1,  4,  9],\n",
       "       [16, 25, 36]])"
      ]
     },
     "execution_count": 28,
     "metadata": {},
     "output_type": "execute_result"
    }
   ],
   "source": [
    "array * array"
   ]
  },
  {
   "cell_type": "code",
   "execution_count": 29,
   "id": "ee007ade",
   "metadata": {},
   "outputs": [
    {
     "data": {
      "text/plain": [
       "array([[0, 0, 0],\n",
       "       [0, 0, 0]])"
      ]
     },
     "execution_count": 29,
     "metadata": {},
     "output_type": "execute_result"
    }
   ],
   "source": [
    "array - array"
   ]
  },
  {
   "cell_type": "code",
   "execution_count": 30,
   "id": "32e52430",
   "metadata": {},
   "outputs": [
    {
     "data": {
      "text/plain": [
       "array([[1, 2, 3],\n",
       "       [4, 5, 6]])"
      ]
     },
     "execution_count": 30,
     "metadata": {},
     "output_type": "execute_result"
    }
   ],
   "source": [
    "array"
   ]
  },
  {
   "cell_type": "code",
   "execution_count": 31,
   "id": "f3d437c4",
   "metadata": {},
   "outputs": [
    {
     "data": {
      "text/plain": [
       "array([[1.        , 0.5       , 0.33333333],\n",
       "       [0.25      , 0.2       , 0.16666667]])"
      ]
     },
     "execution_count": 31,
     "metadata": {},
     "output_type": "execute_result"
    }
   ],
   "source": [
    "1 / array"
   ]
  },
  {
   "cell_type": "code",
   "execution_count": 32,
   "id": "4a6c02ea",
   "metadata": {},
   "outputs": [
    {
     "data": {
      "text/plain": [
       "array([[1.        , 1.41421356, 1.73205081],\n",
       "       [2.        , 2.23606798, 2.44948974]])"
      ]
     },
     "execution_count": 32,
     "metadata": {},
     "output_type": "execute_result"
    }
   ],
   "source": [
    "array ** 0.5"
   ]
  },
  {
   "cell_type": "markdown",
   "id": "c732bec9",
   "metadata": {},
   "source": [
    "<b>Comparison between Boolean ndarrays</b>"
   ]
  },
  {
   "cell_type": "code",
   "execution_count": 33,
   "id": "4c5d7709",
   "metadata": {},
   "outputs": [],
   "source": [
    "array_1 = np.array([[0, 4, 1], [7, 2, 12]])"
   ]
  },
  {
   "cell_type": "code",
   "execution_count": 34,
   "id": "e2ede29c",
   "metadata": {},
   "outputs": [
    {
     "data": {
      "text/plain": [
       "array([[ 0,  4,  1],\n",
       "       [ 7,  2, 12]])"
      ]
     },
     "execution_count": 34,
     "metadata": {},
     "output_type": "execute_result"
    }
   ],
   "source": [
    "array_1 "
   ]
  },
  {
   "cell_type": "code",
   "execution_count": 35,
   "id": "6100e355",
   "metadata": {},
   "outputs": [
    {
     "data": {
      "text/plain": [
       "array([[1, 2, 3],\n",
       "       [4, 5, 6]])"
      ]
     },
     "execution_count": 35,
     "metadata": {},
     "output_type": "execute_result"
    }
   ],
   "source": [
    "array"
   ]
  },
  {
   "cell_type": "code",
   "execution_count": 36,
   "id": "a66aa6be",
   "metadata": {},
   "outputs": [
    {
     "data": {
      "text/plain": [
       "array([[False,  True, False],\n",
       "       [ True, False,  True]])"
      ]
     },
     "execution_count": 36,
     "metadata": {},
     "output_type": "execute_result"
    }
   ],
   "source": [
    "array_1 > array"
   ]
  },
  {
   "cell_type": "markdown",
   "id": "f225b3a3",
   "metadata": {},
   "source": [
    "<b>Other functions</b>"
   ]
  },
  {
   "cell_type": "code",
   "execution_count": 37,
   "id": "9249ba2d",
   "metadata": {},
   "outputs": [
    {
     "data": {
      "text/plain": [
       "array([0.        , 0.05050505, 0.1010101 , 0.15151515, 0.2020202 ,\n",
       "       0.25252525, 0.3030303 , 0.35353535, 0.4040404 , 0.45454545,\n",
       "       0.50505051, 0.55555556, 0.60606061, 0.65656566, 0.70707071,\n",
       "       0.75757576, 0.80808081, 0.85858586, 0.90909091, 0.95959596,\n",
       "       1.01010101, 1.06060606, 1.11111111, 1.16161616, 1.21212121,\n",
       "       1.26262626, 1.31313131, 1.36363636, 1.41414141, 1.46464646,\n",
       "       1.51515152, 1.56565657, 1.61616162, 1.66666667, 1.71717172,\n",
       "       1.76767677, 1.81818182, 1.86868687, 1.91919192, 1.96969697,\n",
       "       2.02020202, 2.07070707, 2.12121212, 2.17171717, 2.22222222,\n",
       "       2.27272727, 2.32323232, 2.37373737, 2.42424242, 2.47474747,\n",
       "       2.52525253, 2.57575758, 2.62626263, 2.67676768, 2.72727273,\n",
       "       2.77777778, 2.82828283, 2.87878788, 2.92929293, 2.97979798,\n",
       "       3.03030303, 3.08080808, 3.13131313, 3.18181818, 3.23232323,\n",
       "       3.28282828, 3.33333333, 3.38383838, 3.43434343, 3.48484848,\n",
       "       3.53535354, 3.58585859, 3.63636364, 3.68686869, 3.73737374,\n",
       "       3.78787879, 3.83838384, 3.88888889, 3.93939394, 3.98989899,\n",
       "       4.04040404, 4.09090909, 4.14141414, 4.19191919, 4.24242424,\n",
       "       4.29292929, 4.34343434, 4.39393939, 4.44444444, 4.49494949,\n",
       "       4.54545455, 4.5959596 , 4.64646465, 4.6969697 , 4.74747475,\n",
       "       4.7979798 , 4.84848485, 4.8989899 , 4.94949495, 5.        ])"
      ]
     },
     "execution_count": 37,
     "metadata": {},
     "output_type": "execute_result"
    }
   ],
   "source": [
    "np.linspace(0,5,100)"
   ]
  },
  {
   "cell_type": "code",
   "execution_count": 38,
   "id": "52978b16",
   "metadata": {},
   "outputs": [
    {
     "data": {
      "text/plain": [
       "array([0.71083182, 0.67637719, 0.50974668, 0.79092431, 0.29278839])"
      ]
     },
     "execution_count": 38,
     "metadata": {},
     "output_type": "execute_result"
    }
   ],
   "source": [
    "np.random.rand(5)"
   ]
  },
  {
   "cell_type": "code",
   "execution_count": 39,
   "id": "d86c951f",
   "metadata": {},
   "outputs": [
    {
     "data": {
      "text/plain": [
       "array([[0.18348238, 0.20786589, 0.29988769, 0.11604916, 0.86249371],\n",
       "       [0.14317627, 0.92245542, 0.89782723, 0.76596857, 0.34426349],\n",
       "       [0.70850239, 0.03024434, 0.88322973, 0.85577587, 0.48792587],\n",
       "       [0.96217556, 0.43589961, 0.44772734, 0.95201088, 0.25059042],\n",
       "       [0.40914077, 0.35572907, 0.5556114 , 0.20161352, 0.4772088 ]])"
      ]
     },
     "execution_count": 39,
     "metadata": {},
     "output_type": "execute_result"
    }
   ],
   "source": [
    "np.random.rand(5,5)"
   ]
  },
  {
   "cell_type": "code",
   "execution_count": 40,
   "id": "2309a007",
   "metadata": {},
   "outputs": [
    {
     "data": {
      "text/plain": [
       "array([-0.37255344,  0.25759389])"
      ]
     },
     "execution_count": 40,
     "metadata": {},
     "output_type": "execute_result"
    }
   ],
   "source": [
    "np.random.randn(2)"
   ]
  },
  {
   "cell_type": "code",
   "execution_count": 41,
   "id": "5c1da89e",
   "metadata": {},
   "outputs": [
    {
     "data": {
      "text/plain": [
       "array([[-1.21769805, -0.43209686,  1.61499499,  0.07161642],\n",
       "       [-0.22937793, -0.05230354, -0.16782095,  1.43683879],\n",
       "       [ 0.17222545,  0.30336374, -0.81853547,  1.32226663],\n",
       "       [-1.148313  ,  0.80229712, -0.93859598, -1.03856867]])"
      ]
     },
     "execution_count": 41,
     "metadata": {},
     "output_type": "execute_result"
    }
   ],
   "source": [
    "np.random.randn(4,4)"
   ]
  },
  {
   "cell_type": "code",
   "execution_count": 42,
   "id": "216c11f5",
   "metadata": {},
   "outputs": [
    {
     "data": {
      "text/plain": [
       "91"
      ]
     },
     "execution_count": 42,
     "metadata": {},
     "output_type": "execute_result"
    }
   ],
   "source": [
    "np.random.randint(1,100)"
   ]
  },
  {
   "cell_type": "code",
   "execution_count": 43,
   "id": "083581c9",
   "metadata": {},
   "outputs": [
    {
     "data": {
      "text/plain": [
       "array([64, 85,  9, 53, 70, 98, 28, 90, 38, 14])"
      ]
     },
     "execution_count": 43,
     "metadata": {},
     "output_type": "execute_result"
    }
   ],
   "source": [
    "np.random.randint(1,100,10)"
   ]
  },
  {
   "cell_type": "code",
   "execution_count": null,
   "id": "d147ed1b-8811-4567-8221-fe4339b60d52",
   "metadata": {},
   "outputs": [],
   "source": []
  },
  {
   "cell_type": "markdown",
   "id": "5d42e736",
   "metadata": {},
   "source": [
    "<b>Descriptive Statistics</b>"
   ]
  },
  {
   "cell_type": "code",
   "execution_count": 44,
   "id": "ccb6fd1e",
   "metadata": {},
   "outputs": [],
   "source": [
    "data = np.random.randint(1,100,10)"
   ]
  },
  {
   "cell_type": "code",
   "execution_count": 45,
   "id": "732ca617",
   "metadata": {},
   "outputs": [
    {
     "data": {
      "text/plain": [
       "array([88, 92, 53, 40, 15, 78, 73, 79, 46, 32])"
      ]
     },
     "execution_count": 45,
     "metadata": {},
     "output_type": "execute_result"
    }
   ],
   "source": [
    "data"
   ]
  },
  {
   "cell_type": "code",
   "execution_count": 46,
   "id": "7b0e83d9",
   "metadata": {},
   "outputs": [],
   "source": [
    "mean = np.mean(data)"
   ]
  },
  {
   "cell_type": "code",
   "execution_count": 47,
   "id": "eb7c3c29",
   "metadata": {},
   "outputs": [],
   "source": [
    "median = np.median(data)"
   ]
  },
  {
   "cell_type": "code",
   "execution_count": 48,
   "id": "81d53e01",
   "metadata": {},
   "outputs": [],
   "source": [
    "standard_dev = np.std(data)"
   ]
  },
  {
   "cell_type": "code",
   "execution_count": 49,
   "id": "dc530f25",
   "metadata": {},
   "outputs": [
    {
     "name": "stdout",
     "output_type": "stream",
     "text": [
      "Mean: 59.6\n",
      "Median: 63.0\n",
      "Standard Deviation: 24.727312834192073\n"
     ]
    }
   ],
   "source": [
    "print(\"Mean:\", mean)\n",
    "print(\"Median:\", median)\n",
    "print(\"Standard Deviation:\", standard_dev)"
   ]
  },
  {
   "cell_type": "code",
   "execution_count": 69,
   "id": "27e793a2",
   "metadata": {},
   "outputs": [],
   "source": [
    "import matplotlib.pyplot as plt"
   ]
  },
  {
   "cell_type": "code",
   "execution_count": 70,
   "id": "0c3afde7",
   "metadata": {},
   "outputs": [
    {
     "data": {
      "image/png": "[encoded data removed]",
      "text/plain": [
       "<Figure size 640x480 with 1 Axes>"
      ]
     },
     "metadata": {},
     "output_type": "display_data"
    }
   ],
   "source": [
    "plt.hist(data, bins=10, edgecolor='black')\n",
    "plt.title('Histogram of Random Integers')\n",
    "plt.xlabel('Value')\n",
    "plt.ylabel('Frequency')\n",
    "plt.show()"
   ]
  },
  {
   "cell_type": "code",
   "execution_count": 52,
   "id": "dfa6a610-e7ce-40d0-ad7b-603b9664c0eb",
   "metadata": {},
   "outputs": [],
   "source": [
    "array = np.arange(1, 13).reshape(4,3)"
   ]
  },
  {
   "cell_type": "code",
   "execution_count": 53,
   "id": "23b4652a-8ee7-426c-9a7c-c9234a9e4763",
   "metadata": {},
   "outputs": [
    {
     "data": {
      "text/plain": [
       "array([[ 1,  2,  3],\n",
       "       [ 4,  5,  6],\n",
       "       [ 7,  8,  9],\n",
       "       [10, 11, 12]])"
      ]
     },
     "execution_count": 53,
     "metadata": {},
     "output_type": "execute_result"
    }
   ],
   "source": [
    "array"
   ]
  },
  {
   "cell_type": "code",
   "execution_count": 54,
   "id": "eef7bd75-5c50-47b3-b03a-f7ccbd398071",
   "metadata": {},
   "outputs": [
    {
     "data": {
      "text/plain": [
       "array([ 2.,  5.,  8., 11.])"
      ]
     },
     "execution_count": 54,
     "metadata": {},
     "output_type": "execute_result"
    }
   ],
   "source": [
    "array.mean(axis=1)"
   ]
  },
  {
   "cell_type": "code",
   "execution_count": 55,
   "id": "5bec2575-753a-4f18-9013-f89ca7942880",
   "metadata": {},
   "outputs": [
    {
     "data": {
      "text/plain": [
       "array([5.5, 6.5, 7.5])"
      ]
     },
     "execution_count": 55,
     "metadata": {},
     "output_type": "execute_result"
    }
   ],
   "source": [
    "array.mean(axis=0)"
   ]
  },
  {
   "cell_type": "code",
   "execution_count": 56,
   "id": "b26dc790-b376-4dce-8ecd-79cc4152358d",
   "metadata": {},
   "outputs": [
    {
     "data": {
      "text/plain": [
       "array([ 6, 15, 24, 33])"
      ]
     },
     "execution_count": 56,
     "metadata": {},
     "output_type": "execute_result"
    }
   ],
   "source": [
    "array.sum(axis=1)"
   ]
  },
  {
   "cell_type": "code",
   "execution_count": 57,
   "id": "36f4e2d6-c65f-468b-81bd-3934ae53c5a8",
   "metadata": {},
   "outputs": [
    {
     "data": {
      "text/plain": [
       "array([22, 26, 30])"
      ]
     },
     "execution_count": 57,
     "metadata": {},
     "output_type": "execute_result"
    }
   ],
   "source": [
    "array.sum(axis=0)"
   ]
  },
  {
   "cell_type": "markdown",
   "id": "a3593038-9810-4e2a-8f79-9f5a40f08f36",
   "metadata": {},
   "source": [
    "<b>Practical Application</b>"
   ]
  },
  {
   "cell_type": "code",
   "execution_count": 58,
   "id": "72a81d3b-5125-4638-bca2-2c1221f7f69d",
   "metadata": {},
   "outputs": [],
   "source": [
    "scores = [\n",
    "    [85, 90, 95],  # Scores of student 1 in three subjects\n",
    "    [75, 80, 85],  # Scores of student 2 in three subjects\n",
    "    [65, 70, 75]   # Scores of student 3 in three subjects\n",
    "]"
   ]
  },
  {
   "cell_type": "code",
   "execution_count": 59,
   "id": "1aa272dd-4a6e-433f-af52-ed26bf674789",
   "metadata": {},
   "outputs": [
    {
     "data": {
      "text/plain": [
       "[[85, 90, 95], [75, 80, 85], [65, 70, 75]]"
      ]
     },
     "execution_count": 59,
     "metadata": {},
     "output_type": "execute_result"
    }
   ],
   "source": [
    "scores"
   ]
  },
  {
   "cell_type": "code",
   "execution_count": 60,
   "id": "16e5618b-885e-4791-a9cb-ceedd7f2a88f",
   "metadata": {},
   "outputs": [],
   "source": [
    "scores_array = np.array(scores)"
   ]
  },
  {
   "cell_type": "code",
   "execution_count": 82,
   "id": "7aa0cc9f-5467-4886-be19-8822f25e5c2a",
   "metadata": {},
   "outputs": [],
   "source": [
    "mean_scores = scores_array.mean(axis=1)"
   ]
  },
  {
   "cell_type": "code",
   "execution_count": 85,
   "id": "8236a4d7",
   "metadata": {},
   "outputs": [
    {
     "data": {
      "text/plain": [
       "array([90., 80., 70.])"
      ]
     },
     "execution_count": 85,
     "metadata": {},
     "output_type": "execute_result"
    }
   ],
   "source": [
    "mean_scores"
   ]
  },
  {
   "cell_type": "code",
   "execution_count": 84,
   "id": "645333f9",
   "metadata": {},
   "outputs": [
    {
     "data": {
      "image/png": "[encoded data removed]",
      "text/plain": [
       "<Figure size 640x480 with 1 Axes>"
      ]
     },
     "metadata": {},
     "output_type": "display_data"
    }
   ],
   "source": [
    "# Define the labels for each bar\n",
    "labels = ['Student 1', 'Student 2', 'Student 3']\n",
    "plt.bar(labels, mean_scores)\n",
    "\n",
    "# Add labels and title\n",
    "plt.xlabel('Students')\n",
    "plt.ylabel('Scores')\n",
    "plt.title('Average Scores per Student')\n",
    "\n",
    "# Display the chart\n",
    "plt.show()"
   ]
  },
  {
   "cell_type": "code",
   "execution_count": 72,
   "id": "ebeaa627",
   "metadata": {},
   "outputs": [
    {
     "data": {
      "text/plain": [
       "array([90., 80., 70.])"
      ]
     },
     "execution_count": 72,
     "metadata": {},
     "output_type": "execute_result"
    }
   ],
   "source": [
    "mean_scores"
   ]
  },
  {
   "cell_type": "code",
   "execution_count": 62,
   "id": "3099874c-258a-4598-bc45-8d151daca8a8",
   "metadata": {},
   "outputs": [],
   "source": [
    "mean_subject_scores = scores_array.mean(axis=0)"
   ]
  },
  {
   "cell_type": "code",
   "execution_count": 73,
   "id": "0767887c",
   "metadata": {},
   "outputs": [
    {
     "data": {
      "text/plain": [
       "array([75., 80., 85.])"
      ]
     },
     "execution_count": 73,
     "metadata": {},
     "output_type": "execute_result"
    }
   ],
   "source": [
    "mean_subject_scores"
   ]
  },
  {
   "cell_type": "code",
   "execution_count": 78,
   "id": "047aaa41-2d04-472f-9c16-a9cb88da27b6",
   "metadata": {},
   "outputs": [
    {
     "name": "stdout",
     "output_type": "stream",
     "text": [
      "Mean Scores in Each Subject: [75. 80. 85.]\n"
     ]
    }
   ],
   "source": [
    "print(\"Average Scores in Each Subject:\", mean_subject_scores)"
   ]
  },
  {
   "cell_type": "code",
   "execution_count": 86,
   "id": "9debefe1",
   "metadata": {},
   "outputs": [
    {
     "data": {
      "image/png": "[encoded data removed]",
      "text/plain": [
       "<Figure size 640x480 with 1 Axes>"
      ]
     },
     "metadata": {},
     "output_type": "display_data"
    }
   ],
   "source": [
    "# Define the labels for each bar\n",
    "labels = ['Subject 1', 'Subject 2', 'Subject 3']\n",
    "\n",
    "# Create the bar chart\n",
    "plt.bar(labels, mean_subject_scores)\n",
    "\n",
    "# Add labels and title\n",
    "plt.xlabel('Subjects')\n",
    "plt.ylabel('Grades')\n",
    "plt.title('Average Scores per Subject')\n",
    "\n",
    "# Display the chart\n",
    "plt.show()"
   ]
  },
  {
   "cell_type": "code",
   "execution_count": null,
   "id": "c4dd7319",
   "metadata": {},
   "outputs": [],
   "source": []
  }
 ],
 "metadata": {
  "kernelspec": {
   "display_name": "Python 3 (ipykernel)",
   "language": "python",
   "name": "python3"
  },
  "language_info": {
   "codemirror_mode": {
    "name": "ipython",
    "version": 3
   },
   "file_extension": ".py",
   "mimetype": "text/x-python",
   "name": "python",
   "nbconvert_exporter": "python",
   "pygments_lexer": "ipython3",
   "version": "3.9.13"
  }
 },
 "nbformat": 4,
 "nbformat_minor": 5
}
