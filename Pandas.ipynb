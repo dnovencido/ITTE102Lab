{
 "cells": [
  {
   "cell_type": "markdown",
   "id": "e302b01d",
   "metadata": {},
   "source": [
    "<h1>Introduction to Pandas</h1>"
   ]
  },
  {
   "cell_type": "markdown",
   "id": "0fc38a48",
   "metadata": {},
   "source": [
    "<b>Import pandas library</b>"
   ]
  },
  {
   "cell_type": "code",
   "execution_count": 5,
   "id": "c77dd7a1",
   "metadata": {},
   "outputs": [],
   "source": [
    "import pandas as pd"
   ]
  },
  {
   "cell_type": "markdown",
   "id": "3a4fa7de",
   "metadata": {},
   "source": [
    "<h2>Series</h2> <p>It is a one-dimensional array-like object that can hold data of any type (integer, string, float, etc.)</p>"
   ]
  },
  {
   "cell_type": "code",
   "execution_count": 6,
   "id": "bdbe3cad",
   "metadata": {},
   "outputs": [],
   "source": [
    "obj = pd.Series([2, 4, 6, 8, 10])"
   ]
  },
  {
   "cell_type": "code",
   "execution_count": 7,
   "id": "9d0bc89b",
   "metadata": {},
   "outputs": [
    {
     "data": {
      "text/plain": [
       "0     2\n",
       "1     4\n",
       "2     6\n",
       "3     8\n",
       "4    10\n",
       "dtype: int64"
      ]
     },
     "execution_count": 7,
     "metadata": {},
     "output_type": "execute_result"
    }
   ],
   "source": [
    "obj"
   ]
  },
  {
   "cell_type": "code",
   "execution_count": 8,
   "id": "0d17ef3d",
   "metadata": {},
   "outputs": [
    {
     "data": {
      "text/plain": [
       "array([ 2,  4,  6,  8, 10])"
      ]
     },
     "execution_count": 8,
     "metadata": {},
     "output_type": "execute_result"
    }
   ],
   "source": [
    "obj.values"
   ]
  },
  {
   "cell_type": "markdown",
   "id": "db74bb84",
   "metadata": {},
   "source": [
    "It will return the data as a one-dimensional NumPy array."
   ]
  },
  {
   "cell_type": "code",
   "execution_count": 9,
   "id": "29cd6474",
   "metadata": {},
   "outputs": [
    {
     "data": {
      "text/plain": [
       "RangeIndex(start=0, stop=5, step=1)"
      ]
     },
     "execution_count": 9,
     "metadata": {},
     "output_type": "execute_result"
    }
   ],
   "source": [
    "obj.index"
   ]
  },
  {
   "cell_type": "markdown",
   "id": "0a2cfe0b",
   "metadata": {},
   "source": [
    "It returns an Index object that contains the labels of the Series."
   ]
  },
  {
   "cell_type": "code",
   "execution_count": 10,
   "id": "9bcd24e7",
   "metadata": {},
   "outputs": [],
   "source": [
    "data = {'Ohio': 3500, 'Texas': 7100, 'Oregon': 1600, 'Utah': 5000}"
   ]
  },
  {
   "cell_type": "code",
   "execution_count": 11,
   "id": "9af59c55",
   "metadata": {},
   "outputs": [],
   "source": [
    "obj2 = pd.Series(data)"
   ]
  },
  {
   "cell_type": "code",
   "execution_count": 12,
   "id": "8927d01b",
   "metadata": {},
   "outputs": [
    {
     "data": {
      "text/plain": [
       "Ohio      3500\n",
       "Texas     7100\n",
       "Oregon    1600\n",
       "Utah      5000\n",
       "dtype: int64"
      ]
     },
     "execution_count": 12,
     "metadata": {},
     "output_type": "execute_result"
    }
   ],
   "source": [
    "obj2"
   ]
  },
  {
   "cell_type": "markdown",
   "id": "3a0f00a5",
   "metadata": {},
   "source": [
    "<p>It creates a pandas Series to represent this data.</p><p>The states will become the <b>index</b> labels, and the values will represent the corresponding numbers.</p>"
   ]
  },
  {
   "cell_type": "code",
   "execution_count": 13,
   "id": "3030c34f",
   "metadata": {},
   "outputs": [],
   "source": [
    "states = ['California', 'Ohio', 'Oregon', 'Texas']"
   ]
  },
  {
   "cell_type": "code",
   "execution_count": 14,
   "id": "e0aad5bb",
   "metadata": {},
   "outputs": [],
   "source": [
    "obj3 = pd.Series(data, index=states)"
   ]
  },
  {
   "cell_type": "code",
   "execution_count": 15,
   "id": "ba6e3c64",
   "metadata": {},
   "outputs": [
    {
     "data": {
      "text/plain": [
       "California       NaN\n",
       "Ohio          3500.0\n",
       "Oregon        1600.0\n",
       "Texas         7100.0\n",
       "dtype: float64"
      ]
     },
     "execution_count": 15,
     "metadata": {},
     "output_type": "execute_result"
    }
   ],
   "source": [
    "obj3"
   ]
  },
  {
   "cell_type": "markdown",
   "id": "adb17c46",
   "metadata": {},
   "source": [
    "<p>To create a pandas Series with a specific index order, you can specify the index explicitly when creating the Series. </p> \n",
    "<p>The label <b>'California'</b> is not present in the data dictionary, so its value is NaN.</p>\n",
    "<p>When you create a pandas Series with a specific index, and the index includes labels that are not in the data dictionary, pandas will fill those entries with NaN (Not a Number) to indicate missing data</p>"
   ]
  },
  {
   "cell_type": "code",
   "execution_count": 16,
   "id": "3b816c41",
   "metadata": {},
   "outputs": [
    {
     "data": {
      "text/plain": [
       "California     True\n",
       "Ohio          False\n",
       "Oregon        False\n",
       "Texas         False\n",
       "dtype: bool"
      ]
     },
     "execution_count": 16,
     "metadata": {},
     "output_type": "execute_result"
    }
   ],
   "source": [
    "pd.isnull(obj3)"
   ]
  },
  {
   "cell_type": "markdown",
   "id": "4dc87265",
   "metadata": {},
   "source": [
    "<p>This function is used to detect missing values in a pandas object. When applied to a Series like obj3, it returns a Series of the same shape with boolean values indicating whether each corresponding value is NaN (True) or not (False).</p>"
   ]
  },
  {
   "cell_type": "code",
   "execution_count": 17,
   "id": "f45b577a",
   "metadata": {},
   "outputs": [
    {
     "data": {
      "text/plain": [
       "California    False\n",
       "Ohio           True\n",
       "Oregon         True\n",
       "Texas          True\n",
       "dtype: bool"
      ]
     },
     "execution_count": 17,
     "metadata": {},
     "output_type": "execute_result"
    }
   ],
   "source": [
    "pd.notnull(obj3)"
   ]
  },
  {
   "cell_type": "markdown",
   "id": "a1476f08",
   "metadata": {},
   "source": [
    "<p>This funcion is used to detect non-missing values in a pandas object. When applied to a Series like obj3, it returns a Series of the same shape with boolean values indicating whether each corresponding value is not NaN (True) or NaN (False).</p>"
   ]
  },
  {
   "cell_type": "code",
   "execution_count": 18,
   "id": "a1faf997",
   "metadata": {},
   "outputs": [],
   "source": [
    "data2 = {'Ohio': 2100, 'Texas': 1800, 'Oregon': 500, 'Utah': 1200}"
   ]
  },
  {
   "cell_type": "code",
   "execution_count": 19,
   "id": "edc2e272",
   "metadata": {},
   "outputs": [],
   "source": [
    "states2 = ['California', 'Ohio', 'Oregon', 'Texas', 'Utah']"
   ]
  },
  {
   "cell_type": "code",
   "execution_count": 20,
   "id": "57ecc8db",
   "metadata": {},
   "outputs": [],
   "source": [
    "obj5 = pd.Series(data2,index=states2)"
   ]
  },
  {
   "cell_type": "code",
   "execution_count": 21,
   "id": "3822eb7b",
   "metadata": {},
   "outputs": [
    {
     "data": {
      "text/plain": [
       "Ohio      3500\n",
       "Texas     7100\n",
       "Oregon    1600\n",
       "Utah      5000\n",
       "dtype: int64"
      ]
     },
     "execution_count": 21,
     "metadata": {},
     "output_type": "execute_result"
    }
   ],
   "source": [
    "obj2"
   ]
  },
  {
   "cell_type": "code",
   "execution_count": 22,
   "id": "c8379a64",
   "metadata": {},
   "outputs": [
    {
     "data": {
      "text/plain": [
       "California       NaN\n",
       "Ohio          2100.0\n",
       "Oregon         500.0\n",
       "Texas         1800.0\n",
       "Utah          1200.0\n",
       "dtype: float64"
      ]
     },
     "execution_count": 22,
     "metadata": {},
     "output_type": "execute_result"
    }
   ],
   "source": [
    "obj5"
   ]
  },
  {
   "cell_type": "code",
   "execution_count": 23,
   "id": "e517a841",
   "metadata": {},
   "outputs": [
    {
     "data": {
      "text/plain": [
       "California       NaN\n",
       "Ohio          5600.0\n",
       "Oregon        2100.0\n",
       "Texas         8900.0\n",
       "Utah          6200.0\n",
       "dtype: float64"
      ]
     },
     "execution_count": 23,
     "metadata": {},
     "output_type": "execute_result"
    }
   ],
   "source": [
    "obj2 + obj5"
   ]
  },
  {
   "cell_type": "markdown",
   "id": "f42c2179",
   "metadata": {},
   "source": [
    "<p>You can perform arithmetic operations, such as addition, between two Series objects.</p> \n",
    "<p>When you add two Series, pandas aligns them by their index labels and performs the operation element-wise. <br>If a label is not present in both Series, the resulting value will be NaN for that label.</p>"
   ]
  },
  {
   "cell_type": "markdown",
   "id": "b90e9f3c",
   "metadata": {},
   "source": [
    "<hr>\n",
    "<h2>DataFrame</h2>\n",
    "<p>a two-dimensional, size-mutable, and potentially heterogeneous tabular data structure with labeled axes (rows and columns).</p>"
   ]
  },
  {
   "cell_type": "code",
   "execution_count": 24,
   "id": "33483a11",
   "metadata": {},
   "outputs": [],
   "source": [
    "data = {\n",
    "        'state': ['Ohio', 'Ohio', 'Ohio', 'Nevada', 'Nevada', 'Nevada'],\n",
    "        'population' : [1.5, 1.7, 3.6, 2.4, 2.9, 3.2],\n",
    "         'year' : ['2000', '2001', '2002', '2001', '2002', '2003']\n",
    "       }"
   ]
  },
  {
   "cell_type": "code",
   "execution_count": 25,
   "id": "7fc6a772",
   "metadata": {},
   "outputs": [],
   "source": [
    "frame = pd.DataFrame(data)"
   ]
  },
  {
   "cell_type": "code",
   "execution_count": 26,
   "id": "5fe05b8d",
   "metadata": {},
   "outputs": [
    {
     "data": {
      "text/html": [
       "<div>\n",
       "<style scoped>\n",
       "    .dataframe tbody tr th:only-of-type {\n",
       "        vertical-align: middle;\n",
       "    }\n",
       "\n",
       "    .dataframe tbody tr th {\n",
       "        vertical-align: top;\n",
       "    }\n",
       "\n",
       "    .dataframe thead th {\n",
       "        text-align: right;\n",
       "    }\n",
       "</style>\n",
       "<table border=\"1\" class=\"dataframe\">\n",
       "  <thead>\n",
       "    <tr style=\"text-align: right;\">\n",
       "      <th></th>\n",
       "      <th>state</th>\n",
       "      <th>population</th>\n",
       "      <th>year</th>\n",
       "    </tr>\n",
       "  </thead>\n",
       "  <tbody>\n",
       "    <tr>\n",
       "      <th>0</th>\n",
       "      <td>Ohio</td>\n",
       "      <td>1.5</td>\n",
       "      <td>2000</td>\n",
       "    </tr>\n",
       "    <tr>\n",
       "      <th>1</th>\n",
       "      <td>Ohio</td>\n",
       "      <td>1.7</td>\n",
       "      <td>2001</td>\n",
       "    </tr>\n",
       "    <tr>\n",
       "      <th>2</th>\n",
       "      <td>Ohio</td>\n",
       "      <td>3.6</td>\n",
       "      <td>2002</td>\n",
       "    </tr>\n",
       "    <tr>\n",
       "      <th>3</th>\n",
       "      <td>Nevada</td>\n",
       "      <td>2.4</td>\n",
       "      <td>2001</td>\n",
       "    </tr>\n",
       "    <tr>\n",
       "      <th>4</th>\n",
       "      <td>Nevada</td>\n",
       "      <td>2.9</td>\n",
       "      <td>2002</td>\n",
       "    </tr>\n",
       "    <tr>\n",
       "      <th>5</th>\n",
       "      <td>Nevada</td>\n",
       "      <td>3.2</td>\n",
       "      <td>2003</td>\n",
       "    </tr>\n",
       "  </tbody>\n",
       "</table>\n",
       "</div>"
      ],
      "text/plain": [
       "    state  population  year\n",
       "0    Ohio         1.5  2000\n",
       "1    Ohio         1.7  2001\n",
       "2    Ohio         3.6  2002\n",
       "3  Nevada         2.4  2001\n",
       "4  Nevada         2.9  2002\n",
       "5  Nevada         3.2  2003"
      ]
     },
     "execution_count": 26,
     "metadata": {},
     "output_type": "execute_result"
    }
   ],
   "source": [
    "frame"
   ]
  },
  {
   "cell_type": "markdown",
   "id": "c90b699a",
   "metadata": {},
   "source": [
    "<p>It creates a DataFrame from the provided dictionary <b>data</b></p>\n",
    "<p>The <b>data</b> can be any acceptable data structure like a dictionary, list, or another DataFrame.</p>"
   ]
  },
  {
   "cell_type": "code",
   "execution_count": 27,
   "id": "86f35422",
   "metadata": {},
   "outputs": [
    {
     "data": {
      "text/html": [
       "<div>\n",
       "<style scoped>\n",
       "    .dataframe tbody tr th:only-of-type {\n",
       "        vertical-align: middle;\n",
       "    }\n",
       "\n",
       "    .dataframe tbody tr th {\n",
       "        vertical-align: top;\n",
       "    }\n",
       "\n",
       "    .dataframe thead th {\n",
       "        text-align: right;\n",
       "    }\n",
       "</style>\n",
       "<table border=\"1\" class=\"dataframe\">\n",
       "  <thead>\n",
       "    <tr style=\"text-align: right;\">\n",
       "      <th></th>\n",
       "      <th>state</th>\n",
       "      <th>population</th>\n",
       "      <th>year</th>\n",
       "    </tr>\n",
       "  </thead>\n",
       "  <tbody>\n",
       "    <tr>\n",
       "      <th>0</th>\n",
       "      <td>Ohio</td>\n",
       "      <td>1.5</td>\n",
       "      <td>2000</td>\n",
       "    </tr>\n",
       "    <tr>\n",
       "      <th>1</th>\n",
       "      <td>Ohio</td>\n",
       "      <td>1.7</td>\n",
       "      <td>2001</td>\n",
       "    </tr>\n",
       "    <tr>\n",
       "      <th>2</th>\n",
       "      <td>Ohio</td>\n",
       "      <td>3.6</td>\n",
       "      <td>2002</td>\n",
       "    </tr>\n",
       "    <tr>\n",
       "      <th>3</th>\n",
       "      <td>Nevada</td>\n",
       "      <td>2.4</td>\n",
       "      <td>2001</td>\n",
       "    </tr>\n",
       "    <tr>\n",
       "      <th>4</th>\n",
       "      <td>Nevada</td>\n",
       "      <td>2.9</td>\n",
       "      <td>2002</td>\n",
       "    </tr>\n",
       "  </tbody>\n",
       "</table>\n",
       "</div>"
      ],
      "text/plain": [
       "    state  population  year\n",
       "0    Ohio         1.5  2000\n",
       "1    Ohio         1.7  2001\n",
       "2    Ohio         3.6  2002\n",
       "3  Nevada         2.4  2001\n",
       "4  Nevada         2.9  2002"
      ]
     },
     "execution_count": 27,
     "metadata": {},
     "output_type": "execute_result"
    }
   ],
   "source": [
    "frame.head()"
   ]
  },
  {
   "cell_type": "markdown",
   "id": "3011916a",
   "metadata": {},
   "source": [
    "A method in pandas that is used to view the first few rows of a DataFrame. <br> By default, it returns the first five rows, but you can specify the number of rows to return.<br>You can specify any number of rows to view by passing an integer as an argument to the head() method."
   ]
  },
  {
   "cell_type": "code",
   "execution_count": 28,
   "id": "0bc1d6c2",
   "metadata": {},
   "outputs": [],
   "source": [
    "frame = pd.DataFrame(data, columns=['state', 'year', 'population'])"
   ]
  },
  {
   "cell_type": "markdown",
   "id": "e31d8675",
   "metadata": {},
   "source": [
    "When creating a DataFrame in pandas, you can specify the columns explicitly to ensure they are in the desired order."
   ]
  },
  {
   "cell_type": "code",
   "execution_count": 29,
   "id": "fa77eeef",
   "metadata": {},
   "outputs": [
    {
     "data": {
      "text/html": [
       "<div>\n",
       "<style scoped>\n",
       "    .dataframe tbody tr th:only-of-type {\n",
       "        vertical-align: middle;\n",
       "    }\n",
       "\n",
       "    .dataframe tbody tr th {\n",
       "        vertical-align: top;\n",
       "    }\n",
       "\n",
       "    .dataframe thead th {\n",
       "        text-align: right;\n",
       "    }\n",
       "</style>\n",
       "<table border=\"1\" class=\"dataframe\">\n",
       "  <thead>\n",
       "    <tr style=\"text-align: right;\">\n",
       "      <th></th>\n",
       "      <th>state</th>\n",
       "      <th>year</th>\n",
       "      <th>population</th>\n",
       "    </tr>\n",
       "  </thead>\n",
       "  <tbody>\n",
       "    <tr>\n",
       "      <th>0</th>\n",
       "      <td>Ohio</td>\n",
       "      <td>2000</td>\n",
       "      <td>1.5</td>\n",
       "    </tr>\n",
       "    <tr>\n",
       "      <th>1</th>\n",
       "      <td>Ohio</td>\n",
       "      <td>2001</td>\n",
       "      <td>1.7</td>\n",
       "    </tr>\n",
       "    <tr>\n",
       "      <th>2</th>\n",
       "      <td>Ohio</td>\n",
       "      <td>2002</td>\n",
       "      <td>3.6</td>\n",
       "    </tr>\n",
       "    <tr>\n",
       "      <th>3</th>\n",
       "      <td>Nevada</td>\n",
       "      <td>2001</td>\n",
       "      <td>2.4</td>\n",
       "    </tr>\n",
       "    <tr>\n",
       "      <th>4</th>\n",
       "      <td>Nevada</td>\n",
       "      <td>2002</td>\n",
       "      <td>2.9</td>\n",
       "    </tr>\n",
       "    <tr>\n",
       "      <th>5</th>\n",
       "      <td>Nevada</td>\n",
       "      <td>2003</td>\n",
       "      <td>3.2</td>\n",
       "    </tr>\n",
       "  </tbody>\n",
       "</table>\n",
       "</div>"
      ],
      "text/plain": [
       "    state  year  population\n",
       "0    Ohio  2000         1.5\n",
       "1    Ohio  2001         1.7\n",
       "2    Ohio  2002         3.6\n",
       "3  Nevada  2001         2.4\n",
       "4  Nevada  2002         2.9\n",
       "5  Nevada  2003         3.2"
      ]
     },
     "execution_count": 29,
     "metadata": {},
     "output_type": "execute_result"
    }
   ],
   "source": [
    "frame"
   ]
  },
  {
   "cell_type": "markdown",
   "id": "5f273ad6",
   "metadata": {},
   "source": [
    "<b>Reindexing</b>"
   ]
  },
  {
   "cell_type": "code",
   "execution_count": 30,
   "id": "c21fb427",
   "metadata": {},
   "outputs": [],
   "source": [
    "frame2 = pd.DataFrame(data, columns=['state', 'year', 'population'], index=['A', 'B', 'C', 'D', 'E', 'F'])"
   ]
  },
  {
   "cell_type": "code",
   "execution_count": 31,
   "id": "e2423f2e",
   "metadata": {},
   "outputs": [
    {
     "data": {
      "text/html": [
       "<div>\n",
       "<style scoped>\n",
       "    .dataframe tbody tr th:only-of-type {\n",
       "        vertical-align: middle;\n",
       "    }\n",
       "\n",
       "    .dataframe tbody tr th {\n",
       "        vertical-align: top;\n",
       "    }\n",
       "\n",
       "    .dataframe thead th {\n",
       "        text-align: right;\n",
       "    }\n",
       "</style>\n",
       "<table border=\"1\" class=\"dataframe\">\n",
       "  <thead>\n",
       "    <tr style=\"text-align: right;\">\n",
       "      <th></th>\n",
       "      <th>state</th>\n",
       "      <th>year</th>\n",
       "      <th>population</th>\n",
       "    </tr>\n",
       "  </thead>\n",
       "  <tbody>\n",
       "    <tr>\n",
       "      <th>A</th>\n",
       "      <td>Ohio</td>\n",
       "      <td>2000</td>\n",
       "      <td>1.5</td>\n",
       "    </tr>\n",
       "    <tr>\n",
       "      <th>B</th>\n",
       "      <td>Ohio</td>\n",
       "      <td>2001</td>\n",
       "      <td>1.7</td>\n",
       "    </tr>\n",
       "    <tr>\n",
       "      <th>C</th>\n",
       "      <td>Ohio</td>\n",
       "      <td>2002</td>\n",
       "      <td>3.6</td>\n",
       "    </tr>\n",
       "    <tr>\n",
       "      <th>D</th>\n",
       "      <td>Nevada</td>\n",
       "      <td>2001</td>\n",
       "      <td>2.4</td>\n",
       "    </tr>\n",
       "    <tr>\n",
       "      <th>E</th>\n",
       "      <td>Nevada</td>\n",
       "      <td>2002</td>\n",
       "      <td>2.9</td>\n",
       "    </tr>\n",
       "    <tr>\n",
       "      <th>F</th>\n",
       "      <td>Nevada</td>\n",
       "      <td>2003</td>\n",
       "      <td>3.2</td>\n",
       "    </tr>\n",
       "  </tbody>\n",
       "</table>\n",
       "</div>"
      ],
      "text/plain": [
       "    state  year  population\n",
       "A    Ohio  2000         1.5\n",
       "B    Ohio  2001         1.7\n",
       "C    Ohio  2002         3.6\n",
       "D  Nevada  2001         2.4\n",
       "E  Nevada  2002         2.9\n",
       "F  Nevada  2003         3.2"
      ]
     },
     "execution_count": 31,
     "metadata": {},
     "output_type": "execute_result"
    }
   ],
   "source": [
    "frame2"
   ]
  },
  {
   "cell_type": "markdown",
   "id": "c1dfd289",
   "metadata": {},
   "source": [
    "You can also specify custom row indices when creating a DataFrame in pandas."
   ]
  },
  {
   "cell_type": "markdown",
   "id": "e8650577",
   "metadata": {},
   "source": [
    "<b>Accessing Columns</b>"
   ]
  },
  {
   "cell_type": "code",
   "execution_count": 32,
   "id": "4958082b",
   "metadata": {},
   "outputs": [
    {
     "data": {
      "text/plain": [
       "A      Ohio\n",
       "B      Ohio\n",
       "C      Ohio\n",
       "D    Nevada\n",
       "E    Nevada\n",
       "F    Nevada\n",
       "Name: state, dtype: object"
      ]
     },
     "execution_count": 32,
     "metadata": {},
     "output_type": "execute_result"
    }
   ],
   "source": [
    "frame2['state']"
   ]
  },
  {
   "cell_type": "markdown",
   "id": "5aac12eb",
   "metadata": {},
   "source": [
    "To access the <b>'state'</b> column from the frame2 DataFrame, you can use the bracket notation. This will return a pandas Series containing the data from the <b>'state'</b> column."
   ]
  },
  {
   "cell_type": "code",
   "execution_count": 33,
   "id": "0ea07181",
   "metadata": {},
   "outputs": [
    {
     "data": {
      "text/plain": [
       "A    2000\n",
       "B    2001\n",
       "C    2002\n",
       "D    2001\n",
       "E    2002\n",
       "F    2003\n",
       "Name: year, dtype: object"
      ]
     },
     "execution_count": 33,
     "metadata": {},
     "output_type": "execute_result"
    }
   ],
   "source": [
    "frame2.year"
   ]
  },
  {
   "cell_type": "markdown",
   "id": "dead1c48",
   "metadata": {},
   "source": [
    "You can access a column using the dot notation if the column name doesn't contain any spaces or special characters. "
   ]
  },
  {
   "cell_type": "code",
   "execution_count": 34,
   "id": "752c23c3",
   "metadata": {},
   "outputs": [
    {
     "data": {
      "text/html": [
       "<div>\n",
       "<style scoped>\n",
       "    .dataframe tbody tr th:only-of-type {\n",
       "        vertical-align: middle;\n",
       "    }\n",
       "\n",
       "    .dataframe tbody tr th {\n",
       "        vertical-align: top;\n",
       "    }\n",
       "\n",
       "    .dataframe thead th {\n",
       "        text-align: right;\n",
       "    }\n",
       "</style>\n",
       "<table border=\"1\" class=\"dataframe\">\n",
       "  <thead>\n",
       "    <tr style=\"text-align: right;\">\n",
       "      <th></th>\n",
       "      <th>state</th>\n",
       "      <th>year</th>\n",
       "    </tr>\n",
       "  </thead>\n",
       "  <tbody>\n",
       "    <tr>\n",
       "      <th>A</th>\n",
       "      <td>Ohio</td>\n",
       "      <td>2000</td>\n",
       "    </tr>\n",
       "    <tr>\n",
       "      <th>B</th>\n",
       "      <td>Ohio</td>\n",
       "      <td>2001</td>\n",
       "    </tr>\n",
       "    <tr>\n",
       "      <th>C</th>\n",
       "      <td>Ohio</td>\n",
       "      <td>2002</td>\n",
       "    </tr>\n",
       "    <tr>\n",
       "      <th>D</th>\n",
       "      <td>Nevada</td>\n",
       "      <td>2001</td>\n",
       "    </tr>\n",
       "    <tr>\n",
       "      <th>E</th>\n",
       "      <td>Nevada</td>\n",
       "      <td>2002</td>\n",
       "    </tr>\n",
       "    <tr>\n",
       "      <th>F</th>\n",
       "      <td>Nevada</td>\n",
       "      <td>2003</td>\n",
       "    </tr>\n",
       "  </tbody>\n",
       "</table>\n",
       "</div>"
      ],
      "text/plain": [
       "    state  year\n",
       "A    Ohio  2000\n",
       "B    Ohio  2001\n",
       "C    Ohio  2002\n",
       "D  Nevada  2001\n",
       "E  Nevada  2002\n",
       "F  Nevada  2003"
      ]
     },
     "execution_count": 34,
     "metadata": {},
     "output_type": "execute_result"
    }
   ],
   "source": [
    "frame2[['state', 'year']]"
   ]
  },
  {
   "cell_type": "markdown",
   "id": "01aa9001",
   "metadata": {},
   "source": [
    "To access multiple columns from a DataFrame in pandas, you can use double brackets [[]]. <br>This will return a new DataFrame containing only the specified columns."
   ]
  },
  {
   "cell_type": "markdown",
   "id": "a82c7fae",
   "metadata": {},
   "source": [
    "<b>Differences of the methods in accessing columns</b>"
   ]
  },
  {
   "cell_type": "markdown",
   "id": "a4680b9e",
   "metadata": {},
   "source": [
    "<p>Dot Notation (df.column_name): Limited to valid Python identifiers and accesses a single column, returning a Series.</p>\n",
    "<p>Single Bracket Notation (df['column_name']): Works with any column name and accesses a single column, returning a Series.</p>\n",
    "<p>Double Bracket Notation (df[['column1', 'column2']]): Used to access multiple columns and returns a new DataFrame.</p>"
   ]
  },
  {
   "cell_type": "markdown",
   "id": "2f2742c9",
   "metadata": {},
   "source": [
    "<b>Selection with loc and iloc</b>"
   ]
  },
  {
   "cell_type": "code",
   "execution_count": 35,
   "id": "49a2616e",
   "metadata": {},
   "outputs": [
    {
     "data": {
      "text/plain": [
       "state         Ohio\n",
       "year          2002\n",
       "population     3.6\n",
       "Name: C, dtype: object"
      ]
     },
     "execution_count": 35,
     "metadata": {},
     "output_type": "execute_result"
    }
   ],
   "source": [
    "frame2.loc['C']"
   ]
  },
  {
   "cell_type": "markdown",
   "id": "d3a8f8fa",
   "metadata": {},
   "source": [
    "\n",
    "The <b>loc</b> accessor in pandas is used to access a group of rows and columns by labels or a boolean array. <br>When you use <b>df.loc['C']</b>, you are retrieving the row with the index label <b>'C'</b>."
   ]
  },
  {
   "cell_type": "code",
   "execution_count": 36,
   "id": "a48e4aae",
   "metadata": {},
   "outputs": [
    {
     "data": {
      "text/plain": [
       "state         Ohio\n",
       "year          2002\n",
       "population     3.6\n",
       "Name: C, dtype: object"
      ]
     },
     "execution_count": 36,
     "metadata": {},
     "output_type": "execute_result"
    }
   ],
   "source": [
    "frame2.iloc[2]"
   ]
  },
  {
   "cell_type": "markdown",
   "id": "95324ffc",
   "metadata": {},
   "source": [
    "The <b>iloc</b> accessor in pandas is used to access rows and columns by their integer positions (indices). <br>When you use <b>df.iloc[2]</b>, you are retrieving the row at the 3rd position (index 2, since indexing is zero-based)."
   ]
  },
  {
   "cell_type": "code",
   "execution_count": 37,
   "id": "12ef2b7f",
   "metadata": {},
   "outputs": [
    {
     "data": {
      "text/plain": [
       "'Ohio'"
      ]
     },
     "execution_count": 37,
     "metadata": {},
     "output_type": "execute_result"
    }
   ],
   "source": [
    "frame2.loc['B','state']"
   ]
  },
  {
   "cell_type": "markdown",
   "id": "719e3bc0",
   "metadata": {},
   "source": [
    "It retrieves the value in the <b>'state'</b> column for the row with the index label <b>'B'</b>"
   ]
  },
  {
   "cell_type": "code",
   "execution_count": 38,
   "id": "f20a92af",
   "metadata": {},
   "outputs": [
    {
     "data": {
      "text/html": [
       "<div>\n",
       "<style scoped>\n",
       "    .dataframe tbody tr th:only-of-type {\n",
       "        vertical-align: middle;\n",
       "    }\n",
       "\n",
       "    .dataframe tbody tr th {\n",
       "        vertical-align: top;\n",
       "    }\n",
       "\n",
       "    .dataframe thead th {\n",
       "        text-align: right;\n",
       "    }\n",
       "</style>\n",
       "<table border=\"1\" class=\"dataframe\">\n",
       "  <thead>\n",
       "    <tr style=\"text-align: right;\">\n",
       "      <th></th>\n",
       "      <th>state</th>\n",
       "      <th>year</th>\n",
       "    </tr>\n",
       "  </thead>\n",
       "  <tbody>\n",
       "    <tr>\n",
       "      <th>A</th>\n",
       "      <td>Ohio</td>\n",
       "      <td>2000</td>\n",
       "    </tr>\n",
       "    <tr>\n",
       "      <th>B</th>\n",
       "      <td>Ohio</td>\n",
       "      <td>2001</td>\n",
       "    </tr>\n",
       "  </tbody>\n",
       "</table>\n",
       "</div>"
      ],
      "text/plain": [
       "  state  year\n",
       "A  Ohio  2000\n",
       "B  Ohio  2001"
      ]
     },
     "execution_count": 38,
     "metadata": {},
     "output_type": "execute_result"
    }
   ],
   "source": [
    "frame2.loc[['A', 'B'],['state', 'year']]"
   ]
  },
  {
   "cell_type": "markdown",
   "id": "72e0d63d",
   "metadata": {},
   "source": [
    "It selects rows with the labels <b>'A'</b> and <b>'B'</b> and columns <b>'state'</b> and <b>'year'</b>."
   ]
  },
  {
   "cell_type": "markdown",
   "id": "0e76471e",
   "metadata": {},
   "source": [
    "<b> Differences </b>\n",
    "<p>Single Row and Single Column : Access a single cell in the DataFrame and returns a scalar value .</p>\n",
    "<p>Multiple Rows and Multiple Columns : Access multiple rows and columns and returns a new DataFrame with the specified rows and columns.</p>"
   ]
  },
  {
   "cell_type": "markdown",
   "id": "f2f686dc",
   "metadata": {},
   "source": [
    "<b>Dropping Entries from an Axis</b>"
   ]
  },
  {
   "cell_type": "code",
   "execution_count": 39,
   "id": "1cf11281",
   "metadata": {},
   "outputs": [],
   "source": [
    "frame3 = pd.DataFrame(data, columns=['state', 'year', 'population', 'dept'], index=['A', 'B', 'C', 'D', 'E', 'F'])"
   ]
  },
  {
   "cell_type": "code",
   "execution_count": 40,
   "id": "260b80be",
   "metadata": {},
   "outputs": [
    {
     "data": {
      "text/html": [
       "<div>\n",
       "<style scoped>\n",
       "    .dataframe tbody tr th:only-of-type {\n",
       "        vertical-align: middle;\n",
       "    }\n",
       "\n",
       "    .dataframe tbody tr th {\n",
       "        vertical-align: top;\n",
       "    }\n",
       "\n",
       "    .dataframe thead th {\n",
       "        text-align: right;\n",
       "    }\n",
       "</style>\n",
       "<table border=\"1\" class=\"dataframe\">\n",
       "  <thead>\n",
       "    <tr style=\"text-align: right;\">\n",
       "      <th></th>\n",
       "      <th>state</th>\n",
       "      <th>year</th>\n",
       "      <th>population</th>\n",
       "      <th>dept</th>\n",
       "    </tr>\n",
       "  </thead>\n",
       "  <tbody>\n",
       "    <tr>\n",
       "      <th>A</th>\n",
       "      <td>Ohio</td>\n",
       "      <td>2000</td>\n",
       "      <td>1.5</td>\n",
       "      <td>NaN</td>\n",
       "    </tr>\n",
       "    <tr>\n",
       "      <th>B</th>\n",
       "      <td>Ohio</td>\n",
       "      <td>2001</td>\n",
       "      <td>1.7</td>\n",
       "      <td>NaN</td>\n",
       "    </tr>\n",
       "    <tr>\n",
       "      <th>C</th>\n",
       "      <td>Ohio</td>\n",
       "      <td>2002</td>\n",
       "      <td>3.6</td>\n",
       "      <td>NaN</td>\n",
       "    </tr>\n",
       "    <tr>\n",
       "      <th>D</th>\n",
       "      <td>Nevada</td>\n",
       "      <td>2001</td>\n",
       "      <td>2.4</td>\n",
       "      <td>NaN</td>\n",
       "    </tr>\n",
       "    <tr>\n",
       "      <th>E</th>\n",
       "      <td>Nevada</td>\n",
       "      <td>2002</td>\n",
       "      <td>2.9</td>\n",
       "      <td>NaN</td>\n",
       "    </tr>\n",
       "    <tr>\n",
       "      <th>F</th>\n",
       "      <td>Nevada</td>\n",
       "      <td>2003</td>\n",
       "      <td>3.2</td>\n",
       "      <td>NaN</td>\n",
       "    </tr>\n",
       "  </tbody>\n",
       "</table>\n",
       "</div>"
      ],
      "text/plain": [
       "    state  year  population dept\n",
       "A    Ohio  2000         1.5  NaN\n",
       "B    Ohio  2001         1.7  NaN\n",
       "C    Ohio  2002         3.6  NaN\n",
       "D  Nevada  2001         2.4  NaN\n",
       "E  Nevada  2002         2.9  NaN\n",
       "F  Nevada  2003         3.2  NaN"
      ]
     },
     "execution_count": 40,
     "metadata": {},
     "output_type": "execute_result"
    }
   ],
   "source": [
    "frame3"
   ]
  },
  {
   "cell_type": "code",
   "execution_count": 41,
   "id": "ccc38755",
   "metadata": {},
   "outputs": [
    {
     "data": {
      "text/html": [
       "<div>\n",
       "<style scoped>\n",
       "    .dataframe tbody tr th:only-of-type {\n",
       "        vertical-align: middle;\n",
       "    }\n",
       "\n",
       "    .dataframe tbody tr th {\n",
       "        vertical-align: top;\n",
       "    }\n",
       "\n",
       "    .dataframe thead th {\n",
       "        text-align: right;\n",
       "    }\n",
       "</style>\n",
       "<table border=\"1\" class=\"dataframe\">\n",
       "  <thead>\n",
       "    <tr style=\"text-align: right;\">\n",
       "      <th></th>\n",
       "      <th>state</th>\n",
       "      <th>year</th>\n",
       "      <th>population</th>\n",
       "    </tr>\n",
       "  </thead>\n",
       "  <tbody>\n",
       "    <tr>\n",
       "      <th>A</th>\n",
       "      <td>Ohio</td>\n",
       "      <td>2000</td>\n",
       "      <td>1.5</td>\n",
       "    </tr>\n",
       "    <tr>\n",
       "      <th>B</th>\n",
       "      <td>Ohio</td>\n",
       "      <td>2001</td>\n",
       "      <td>1.7</td>\n",
       "    </tr>\n",
       "    <tr>\n",
       "      <th>C</th>\n",
       "      <td>Ohio</td>\n",
       "      <td>2002</td>\n",
       "      <td>3.6</td>\n",
       "    </tr>\n",
       "    <tr>\n",
       "      <th>D</th>\n",
       "      <td>Nevada</td>\n",
       "      <td>2001</td>\n",
       "      <td>2.4</td>\n",
       "    </tr>\n",
       "    <tr>\n",
       "      <th>E</th>\n",
       "      <td>Nevada</td>\n",
       "      <td>2002</td>\n",
       "      <td>2.9</td>\n",
       "    </tr>\n",
       "    <tr>\n",
       "      <th>F</th>\n",
       "      <td>Nevada</td>\n",
       "      <td>2003</td>\n",
       "      <td>3.2</td>\n",
       "    </tr>\n",
       "  </tbody>\n",
       "</table>\n",
       "</div>"
      ],
      "text/plain": [
       "    state  year  population\n",
       "A    Ohio  2000         1.5\n",
       "B    Ohio  2001         1.7\n",
       "C    Ohio  2002         3.6\n",
       "D  Nevada  2001         2.4\n",
       "E  Nevada  2002         2.9\n",
       "F  Nevada  2003         3.2"
      ]
     },
     "execution_count": 41,
     "metadata": {},
     "output_type": "execute_result"
    }
   ],
   "source": [
    "frame3.drop('dept', axis=1)"
   ]
  },
  {
   "cell_type": "markdown",
   "id": "ff4bb4d4",
   "metadata": {},
   "source": [
    "<p>This command drops the column named <b>'dept'</b> from the DataFrame frame3</p>\n",
    "<p>To drop a column from a DataFrame in pandas, you can use the drop method with the <b>axis=1</b> argument, which indicates that you want to drop a column (as opposed to a row).</p>\n",
    "<p><b>'dept'</b> : The name of the column to be dropped. <br>\n",
    "<b>axis=1</b> : Specifies that a column is being dropped (instead of a row).</p>"
   ]
  },
  {
   "cell_type": "code",
   "execution_count": 42,
   "id": "9d248b0b",
   "metadata": {},
   "outputs": [
    {
     "data": {
      "text/html": [
       "<div>\n",
       "<style scoped>\n",
       "    .dataframe tbody tr th:only-of-type {\n",
       "        vertical-align: middle;\n",
       "    }\n",
       "\n",
       "    .dataframe tbody tr th {\n",
       "        vertical-align: top;\n",
       "    }\n",
       "\n",
       "    .dataframe thead th {\n",
       "        text-align: right;\n",
       "    }\n",
       "</style>\n",
       "<table border=\"1\" class=\"dataframe\">\n",
       "  <thead>\n",
       "    <tr style=\"text-align: right;\">\n",
       "      <th></th>\n",
       "      <th>state</th>\n",
       "      <th>year</th>\n",
       "      <th>population</th>\n",
       "      <th>dept</th>\n",
       "    </tr>\n",
       "  </thead>\n",
       "  <tbody>\n",
       "    <tr>\n",
       "      <th>A</th>\n",
       "      <td>Ohio</td>\n",
       "      <td>2000</td>\n",
       "      <td>1.5</td>\n",
       "      <td>NaN</td>\n",
       "    </tr>\n",
       "    <tr>\n",
       "      <th>B</th>\n",
       "      <td>Ohio</td>\n",
       "      <td>2001</td>\n",
       "      <td>1.7</td>\n",
       "      <td>NaN</td>\n",
       "    </tr>\n",
       "    <tr>\n",
       "      <th>C</th>\n",
       "      <td>Ohio</td>\n",
       "      <td>2002</td>\n",
       "      <td>3.6</td>\n",
       "      <td>NaN</td>\n",
       "    </tr>\n",
       "    <tr>\n",
       "      <th>D</th>\n",
       "      <td>Nevada</td>\n",
       "      <td>2001</td>\n",
       "      <td>2.4</td>\n",
       "      <td>NaN</td>\n",
       "    </tr>\n",
       "    <tr>\n",
       "      <th>E</th>\n",
       "      <td>Nevada</td>\n",
       "      <td>2002</td>\n",
       "      <td>2.9</td>\n",
       "      <td>NaN</td>\n",
       "    </tr>\n",
       "    <tr>\n",
       "      <th>F</th>\n",
       "      <td>Nevada</td>\n",
       "      <td>2003</td>\n",
       "      <td>3.2</td>\n",
       "      <td>NaN</td>\n",
       "    </tr>\n",
       "  </tbody>\n",
       "</table>\n",
       "</div>"
      ],
      "text/plain": [
       "    state  year  population dept\n",
       "A    Ohio  2000         1.5  NaN\n",
       "B    Ohio  2001         1.7  NaN\n",
       "C    Ohio  2002         3.6  NaN\n",
       "D  Nevada  2001         2.4  NaN\n",
       "E  Nevada  2002         2.9  NaN\n",
       "F  Nevada  2003         3.2  NaN"
      ]
     },
     "execution_count": 42,
     "metadata": {},
     "output_type": "execute_result"
    }
   ],
   "source": [
    "frame3"
   ]
  },
  {
   "cell_type": "code",
   "execution_count": 43,
   "id": "32f1879a",
   "metadata": {},
   "outputs": [],
   "source": [
    "frame3.drop('dept', axis=1, inplace=True)"
   ]
  },
  {
   "cell_type": "markdown",
   "id": "f23da960",
   "metadata": {},
   "source": [
    "Using the <b>inplace=True</b> parameter in the drop method allows you to modify the <b>original DataFrame directly</b> without needing to reassign it, meaning the original DataFrame <b>frame3</b> is updated directly."
   ]
  },
  {
   "cell_type": "code",
   "execution_count": 44,
   "id": "42ede1e1",
   "metadata": {},
   "outputs": [
    {
     "data": {
      "text/html": [
       "<div>\n",
       "<style scoped>\n",
       "    .dataframe tbody tr th:only-of-type {\n",
       "        vertical-align: middle;\n",
       "    }\n",
       "\n",
       "    .dataframe tbody tr th {\n",
       "        vertical-align: top;\n",
       "    }\n",
       "\n",
       "    .dataframe thead th {\n",
       "        text-align: right;\n",
       "    }\n",
       "</style>\n",
       "<table border=\"1\" class=\"dataframe\">\n",
       "  <thead>\n",
       "    <tr style=\"text-align: right;\">\n",
       "      <th></th>\n",
       "      <th>state</th>\n",
       "      <th>year</th>\n",
       "      <th>population</th>\n",
       "    </tr>\n",
       "  </thead>\n",
       "  <tbody>\n",
       "    <tr>\n",
       "      <th>A</th>\n",
       "      <td>Ohio</td>\n",
       "      <td>2000</td>\n",
       "      <td>1.5</td>\n",
       "    </tr>\n",
       "    <tr>\n",
       "      <th>B</th>\n",
       "      <td>Ohio</td>\n",
       "      <td>2001</td>\n",
       "      <td>1.7</td>\n",
       "    </tr>\n",
       "    <tr>\n",
       "      <th>C</th>\n",
       "      <td>Ohio</td>\n",
       "      <td>2002</td>\n",
       "      <td>3.6</td>\n",
       "    </tr>\n",
       "    <tr>\n",
       "      <th>D</th>\n",
       "      <td>Nevada</td>\n",
       "      <td>2001</td>\n",
       "      <td>2.4</td>\n",
       "    </tr>\n",
       "    <tr>\n",
       "      <th>E</th>\n",
       "      <td>Nevada</td>\n",
       "      <td>2002</td>\n",
       "      <td>2.9</td>\n",
       "    </tr>\n",
       "    <tr>\n",
       "      <th>F</th>\n",
       "      <td>Nevada</td>\n",
       "      <td>2003</td>\n",
       "      <td>3.2</td>\n",
       "    </tr>\n",
       "  </tbody>\n",
       "</table>\n",
       "</div>"
      ],
      "text/plain": [
       "    state  year  population\n",
       "A    Ohio  2000         1.5\n",
       "B    Ohio  2001         1.7\n",
       "C    Ohio  2002         3.6\n",
       "D  Nevada  2001         2.4\n",
       "E  Nevada  2002         2.9\n",
       "F  Nevada  2003         3.2"
      ]
     },
     "execution_count": 44,
     "metadata": {},
     "output_type": "execute_result"
    }
   ],
   "source": [
    "frame3"
   ]
  },
  {
   "cell_type": "markdown",
   "id": "097ea0e4",
   "metadata": {},
   "source": [
    "<b>Filtering</b>"
   ]
  },
  {
   "cell_type": "code",
   "execution_count": 45,
   "id": "d149fead",
   "metadata": {},
   "outputs": [
    {
     "data": {
      "text/plain": [
       "A    False\n",
       "B     True\n",
       "C     True\n",
       "D     True\n",
       "E     True\n",
       "F     True\n",
       "Name: population, dtype: bool"
      ]
     },
     "execution_count": 45,
     "metadata": {},
     "output_type": "execute_result"
    }
   ],
   "source": [
    "frame3['population'] > 1.6"
   ]
  },
  {
   "cell_type": "code",
   "execution_count": null,
   "id": "1c9162a3",
   "metadata": {},
   "outputs": [],
   "source": []
  },
  {
   "cell_type": "markdown",
   "id": "79564706",
   "metadata": {},
   "source": [
    "It creates a boolean Series where each element is <b>True</b> if the corresponding value in the <b>'population'</b> column is greater than <b>1.6</b>, and <b>False</b> otherwise."
   ]
  },
  {
   "cell_type": "code",
   "execution_count": 46,
   "id": "51ed2823",
   "metadata": {},
   "outputs": [],
   "source": [
    "import numpy as np"
   ]
  },
  {
   "cell_type": "code",
   "execution_count": 47,
   "id": "a32e48b1",
   "metadata": {},
   "outputs": [],
   "source": [
    "frame3['debt'] = np.arange(6.)"
   ]
  },
  {
   "cell_type": "markdown",
   "id": "ee9bc982",
   "metadata": {},
   "source": [
    "It creates an array of six values <b>(0.0 to 5.0)</b> and assign it to the <b>'debt'</b> column of <b>frame3</b>."
   ]
  },
  {
   "cell_type": "code",
   "execution_count": 48,
   "id": "01c7a709",
   "metadata": {},
   "outputs": [
    {
     "data": {
      "text/html": [
       "<div>\n",
       "<style scoped>\n",
       "    .dataframe tbody tr th:only-of-type {\n",
       "        vertical-align: middle;\n",
       "    }\n",
       "\n",
       "    .dataframe tbody tr th {\n",
       "        vertical-align: top;\n",
       "    }\n",
       "\n",
       "    .dataframe thead th {\n",
       "        text-align: right;\n",
       "    }\n",
       "</style>\n",
       "<table border=\"1\" class=\"dataframe\">\n",
       "  <thead>\n",
       "    <tr style=\"text-align: right;\">\n",
       "      <th></th>\n",
       "      <th>state</th>\n",
       "      <th>year</th>\n",
       "      <th>population</th>\n",
       "      <th>debt</th>\n",
       "    </tr>\n",
       "  </thead>\n",
       "  <tbody>\n",
       "    <tr>\n",
       "      <th>A</th>\n",
       "      <td>Ohio</td>\n",
       "      <td>2000</td>\n",
       "      <td>1.5</td>\n",
       "      <td>0.0</td>\n",
       "    </tr>\n",
       "    <tr>\n",
       "      <th>B</th>\n",
       "      <td>Ohio</td>\n",
       "      <td>2001</td>\n",
       "      <td>1.7</td>\n",
       "      <td>1.0</td>\n",
       "    </tr>\n",
       "    <tr>\n",
       "      <th>C</th>\n",
       "      <td>Ohio</td>\n",
       "      <td>2002</td>\n",
       "      <td>3.6</td>\n",
       "      <td>2.0</td>\n",
       "    </tr>\n",
       "    <tr>\n",
       "      <th>D</th>\n",
       "      <td>Nevada</td>\n",
       "      <td>2001</td>\n",
       "      <td>2.4</td>\n",
       "      <td>3.0</td>\n",
       "    </tr>\n",
       "    <tr>\n",
       "      <th>E</th>\n",
       "      <td>Nevada</td>\n",
       "      <td>2002</td>\n",
       "      <td>2.9</td>\n",
       "      <td>4.0</td>\n",
       "    </tr>\n",
       "    <tr>\n",
       "      <th>F</th>\n",
       "      <td>Nevada</td>\n",
       "      <td>2003</td>\n",
       "      <td>3.2</td>\n",
       "      <td>5.0</td>\n",
       "    </tr>\n",
       "  </tbody>\n",
       "</table>\n",
       "</div>"
      ],
      "text/plain": [
       "    state  year  population  debt\n",
       "A    Ohio  2000         1.5   0.0\n",
       "B    Ohio  2001         1.7   1.0\n",
       "C    Ohio  2002         3.6   2.0\n",
       "D  Nevada  2001         2.4   3.0\n",
       "E  Nevada  2002         2.9   4.0\n",
       "F  Nevada  2003         3.2   5.0"
      ]
     },
     "execution_count": 48,
     "metadata": {},
     "output_type": "execute_result"
    }
   ],
   "source": [
    "frame3"
   ]
  },
  {
   "cell_type": "code",
   "execution_count": 49,
   "id": "e2618208",
   "metadata": {},
   "outputs": [
    {
     "data": {
      "text/html": [
       "<div>\n",
       "<style scoped>\n",
       "    .dataframe tbody tr th:only-of-type {\n",
       "        vertical-align: middle;\n",
       "    }\n",
       "\n",
       "    .dataframe tbody tr th {\n",
       "        vertical-align: top;\n",
       "    }\n",
       "\n",
       "    .dataframe thead th {\n",
       "        text-align: right;\n",
       "    }\n",
       "</style>\n",
       "<table border=\"1\" class=\"dataframe\">\n",
       "  <thead>\n",
       "    <tr style=\"text-align: right;\">\n",
       "      <th></th>\n",
       "      <th>state</th>\n",
       "      <th>year</th>\n",
       "      <th>population</th>\n",
       "      <th>debt</th>\n",
       "    </tr>\n",
       "  </thead>\n",
       "  <tbody>\n",
       "    <tr>\n",
       "      <th>D</th>\n",
       "      <td>Nevada</td>\n",
       "      <td>2001</td>\n",
       "      <td>2.4</td>\n",
       "      <td>3.0</td>\n",
       "    </tr>\n",
       "    <tr>\n",
       "      <th>E</th>\n",
       "      <td>Nevada</td>\n",
       "      <td>2002</td>\n",
       "      <td>2.9</td>\n",
       "      <td>4.0</td>\n",
       "    </tr>\n",
       "    <tr>\n",
       "      <th>F</th>\n",
       "      <td>Nevada</td>\n",
       "      <td>2003</td>\n",
       "      <td>3.2</td>\n",
       "      <td>5.0</td>\n",
       "    </tr>\n",
       "  </tbody>\n",
       "</table>\n",
       "</div>"
      ],
      "text/plain": [
       "    state  year  population  debt\n",
       "D  Nevada  2001         2.4   3.0\n",
       "E  Nevada  2002         2.9   4.0\n",
       "F  Nevada  2003         3.2   5.0"
      ]
     },
     "execution_count": 49,
     "metadata": {},
     "output_type": "execute_result"
    }
   ],
   "source": [
    "frame3[frame3['debt'] > 2]"
   ]
  },
  {
   "cell_type": "markdown",
   "id": "c43b4cfb",
   "metadata": {},
   "source": [
    "<p>To filter a DataFrame based on a condition applied to one of its columns, you can use <b>boolean indexing</b>. </p>\n",
    "<p><b>Boolean Indexing: frame3['debt'] > 2</b> creates a boolean Series where each element is <b>True</b> if the corresponding value in the <b>'debt'</b> column is greater than <b>2</b>, and False otherwise.</p>\n",
    "<p><b>Filtering the DataFrame: frame3[frame3['debt'] > 2]</b> uses the boolean Series to filter the rows in <b>frame3</b> where the condition is <b>True</b>.</p>"
   ]
  },
  {
   "cell_type": "code",
   "execution_count": 50,
   "id": "5f3746d9",
   "metadata": {},
   "outputs": [
    {
     "data": {
      "text/html": [
       "<div>\n",
       "<style scoped>\n",
       "    .dataframe tbody tr th:only-of-type {\n",
       "        vertical-align: middle;\n",
       "    }\n",
       "\n",
       "    .dataframe tbody tr th {\n",
       "        vertical-align: top;\n",
       "    }\n",
       "\n",
       "    .dataframe thead th {\n",
       "        text-align: right;\n",
       "    }\n",
       "</style>\n",
       "<table border=\"1\" class=\"dataframe\">\n",
       "  <thead>\n",
       "    <tr style=\"text-align: right;\">\n",
       "      <th></th>\n",
       "      <th>state</th>\n",
       "      <th>year</th>\n",
       "      <th>population</th>\n",
       "      <th>debt</th>\n",
       "    </tr>\n",
       "  </thead>\n",
       "  <tbody>\n",
       "    <tr>\n",
       "      <th>A</th>\n",
       "      <td>Ohio</td>\n",
       "      <td>2000</td>\n",
       "      <td>1.5</td>\n",
       "      <td>0.0</td>\n",
       "    </tr>\n",
       "    <tr>\n",
       "      <th>B</th>\n",
       "      <td>Ohio</td>\n",
       "      <td>2001</td>\n",
       "      <td>1.7</td>\n",
       "      <td>1.0</td>\n",
       "    </tr>\n",
       "    <tr>\n",
       "      <th>D</th>\n",
       "      <td>Nevada</td>\n",
       "      <td>2001</td>\n",
       "      <td>2.4</td>\n",
       "      <td>3.0</td>\n",
       "    </tr>\n",
       "    <tr>\n",
       "      <th>E</th>\n",
       "      <td>Nevada</td>\n",
       "      <td>2002</td>\n",
       "      <td>2.9</td>\n",
       "      <td>4.0</td>\n",
       "    </tr>\n",
       "    <tr>\n",
       "      <th>F</th>\n",
       "      <td>Nevada</td>\n",
       "      <td>2003</td>\n",
       "      <td>3.2</td>\n",
       "      <td>5.0</td>\n",
       "    </tr>\n",
       "  </tbody>\n",
       "</table>\n",
       "</div>"
      ],
      "text/plain": [
       "    state  year  population  debt\n",
       "A    Ohio  2000         1.5   0.0\n",
       "B    Ohio  2001         1.7   1.0\n",
       "D  Nevada  2001         2.4   3.0\n",
       "E  Nevada  2002         2.9   4.0\n",
       "F  Nevada  2003         3.2   5.0"
      ]
     },
     "execution_count": 50,
     "metadata": {},
     "output_type": "execute_result"
    }
   ],
   "source": [
    "frame3[(frame3['debt'] > 2) | (frame3['population'] < 3)]"
   ]
  },
  {
   "cell_type": "markdown",
   "id": "e29bd76d",
   "metadata": {},
   "source": [
    "<p>To filter a DataFrame based on multiple conditions, you can use logical operators like | (OR) and & (AND) along with parentheses to group conditions.</p>\n",
    "<p><b>(frame3['debt'] > 2)</b> creates a boolean Series where each element is <b>True</b> if the corresponding <b>'debt'</b> value is greater than <b>2</b>.</p>\n",
    "<p><b>(frame3['population'] < 3)</b> creates a boolean Series where each element is <b>True</b> if the corresponding <b>'population'</b> value is less than <b>3</b>.</p>\n",
    "<p>The <b>| operator</b> combines these two conditions, creating a boolean Series where each element is <b>True</b> if <b>either condition is True</b>.</p>"
   ]
  },
  {
   "cell_type": "code",
   "execution_count": 51,
   "id": "3a194840",
   "metadata": {},
   "outputs": [
    {
     "data": {
      "text/html": [
       "<div>\n",
       "<style scoped>\n",
       "    .dataframe tbody tr th:only-of-type {\n",
       "        vertical-align: middle;\n",
       "    }\n",
       "\n",
       "    .dataframe tbody tr th {\n",
       "        vertical-align: top;\n",
       "    }\n",
       "\n",
       "    .dataframe thead th {\n",
       "        text-align: right;\n",
       "    }\n",
       "</style>\n",
       "<table border=\"1\" class=\"dataframe\">\n",
       "  <thead>\n",
       "    <tr style=\"text-align: right;\">\n",
       "      <th></th>\n",
       "      <th>state</th>\n",
       "      <th>year</th>\n",
       "      <th>population</th>\n",
       "      <th>debt</th>\n",
       "    </tr>\n",
       "  </thead>\n",
       "  <tbody>\n",
       "    <tr>\n",
       "      <th>D</th>\n",
       "      <td>Nevada</td>\n",
       "      <td>2001</td>\n",
       "      <td>2.4</td>\n",
       "      <td>3.0</td>\n",
       "    </tr>\n",
       "    <tr>\n",
       "      <th>E</th>\n",
       "      <td>Nevada</td>\n",
       "      <td>2002</td>\n",
       "      <td>2.9</td>\n",
       "      <td>4.0</td>\n",
       "    </tr>\n",
       "  </tbody>\n",
       "</table>\n",
       "</div>"
      ],
      "text/plain": [
       "    state  year  population  debt\n",
       "D  Nevada  2001         2.4   3.0\n",
       "E  Nevada  2002         2.9   4.0"
      ]
     },
     "execution_count": 51,
     "metadata": {},
     "output_type": "execute_result"
    }
   ],
   "source": [
    "frame3[(frame3['debt'] > 2) & (frame3['population'] < 3)]"
   ]
  },
  {
   "cell_type": "markdown",
   "id": "69fd4379",
   "metadata": {},
   "source": [
    "<p>To filter a DataFrame based on multiple conditions using the logical AND operator, you can use the & operator along with parentheses to group the conditions.</p>\n",
    "<p><b>(frame3['debt'] > 2)</b> creates a boolean Series where each element is <b>True</b> if the corresponding <b>'debt'</b> value is greater than <b>2</b>.</p>\n",
    "<p><b>(frame3['population'] < 3</b> creates a boolean Series where each element is <b>True</b> if the corresponding <b>'population'</b> value is less than <b>3</b>.</p>\n",
    "<p>The <b>& operator</b> combines these two conditions, creating a boolean Series where each element is <b>True</b> only <b>if both conditions are True</b>.</p>\n"
   ]
  },
  {
   "cell_type": "code",
   "execution_count": 52,
   "id": "d3814939",
   "metadata": {},
   "outputs": [
    {
     "data": {
      "text/html": [
       "<div>\n",
       "<style scoped>\n",
       "    .dataframe tbody tr th:only-of-type {\n",
       "        vertical-align: middle;\n",
       "    }\n",
       "\n",
       "    .dataframe tbody tr th {\n",
       "        vertical-align: top;\n",
       "    }\n",
       "\n",
       "    .dataframe thead th {\n",
       "        text-align: right;\n",
       "    }\n",
       "</style>\n",
       "<table border=\"1\" class=\"dataframe\">\n",
       "  <thead>\n",
       "    <tr style=\"text-align: right;\">\n",
       "      <th></th>\n",
       "      <th>state</th>\n",
       "      <th>year</th>\n",
       "    </tr>\n",
       "  </thead>\n",
       "  <tbody>\n",
       "    <tr>\n",
       "      <th>C</th>\n",
       "      <td>Ohio</td>\n",
       "      <td>2002</td>\n",
       "    </tr>\n",
       "    <tr>\n",
       "      <th>D</th>\n",
       "      <td>Nevada</td>\n",
       "      <td>2001</td>\n",
       "    </tr>\n",
       "    <tr>\n",
       "      <th>E</th>\n",
       "      <td>Nevada</td>\n",
       "      <td>2002</td>\n",
       "    </tr>\n",
       "    <tr>\n",
       "      <th>F</th>\n",
       "      <td>Nevada</td>\n",
       "      <td>2003</td>\n",
       "    </tr>\n",
       "  </tbody>\n",
       "</table>\n",
       "</div>"
      ],
      "text/plain": [
       "    state  year\n",
       "C    Ohio  2002\n",
       "D  Nevada  2001\n",
       "E  Nevada  2002\n",
       "F  Nevada  2003"
      ]
     },
     "execution_count": 52,
     "metadata": {},
     "output_type": "execute_result"
    }
   ],
   "source": [
    "frame3[['state','year']][frame3['population'] > 2]"
   ]
  },
  {
   "cell_type": "markdown",
   "id": "d6ec064c",
   "metadata": {},
   "source": [
    "<p>To filter rows based on a condition and then select specific columns from the DataFrame, you can combine boolean indexing with column selection. </p>\n",
    "<p><b>Boolean Indexing: frame3['population'] > 2</b> creates a boolean Series where each element is True if the corresponding 'population' value is greater than 2.</p>\n",
    "<p><b>frame3[['state', 'year']]</b> selects the <b>'state'</b> and <b>'year'</b> columns from the DataFrame.</p>\n",
    "<p><b>[frame3['population'] > 2]</b> filters the rows based on the condition <b>'population' > 2</b>.</p>"
   ]
  },
  {
   "cell_type": "markdown",
   "id": "728acaea",
   "metadata": {},
   "source": [
    "<b>Data Aggregation</b>"
   ]
  },
  {
   "cell_type": "code",
   "execution_count": 53,
   "id": "98ced7c6",
   "metadata": {},
   "outputs": [],
   "source": [
    "data = {\n",
    "        'Company':['GOOG','GOOG','MSFT','MSFT','FB','FB'],\n",
    "        'Person':['Sam','Charlie','Amy','Vanessa','Carl','Sarah'],\n",
    "        'Sales':[200., 120., 340., 124., 243., 350.]\n",
    "}"
   ]
  },
  {
   "cell_type": "code",
   "execution_count": 54,
   "id": "24bae2d4",
   "metadata": {},
   "outputs": [
    {
     "data": {
      "text/plain": [
       "{'Company': ['GOOG', 'GOOG', 'MSFT', 'MSFT', 'FB', 'FB'],\n",
       " 'Person': ['Sam', 'Charlie', 'Amy', 'Vanessa', 'Carl', 'Sarah'],\n",
       " 'Sales': [200.0, 120.0, 340.0, 124.0, 243.0, 350.0]}"
      ]
     },
     "execution_count": 54,
     "metadata": {},
     "output_type": "execute_result"
    }
   ],
   "source": [
    "data"
   ]
  },
  {
   "cell_type": "code",
   "execution_count": 55,
   "id": "8a4a103e",
   "metadata": {},
   "outputs": [],
   "source": [
    "frame4 = pd.DataFrame(data);"
   ]
  },
  {
   "cell_type": "code",
   "execution_count": 56,
   "id": "31d59818",
   "metadata": {},
   "outputs": [
    {
     "data": {
      "text/html": [
       "<div>\n",
       "<style scoped>\n",
       "    .dataframe tbody tr th:only-of-type {\n",
       "        vertical-align: middle;\n",
       "    }\n",
       "\n",
       "    .dataframe tbody tr th {\n",
       "        vertical-align: top;\n",
       "    }\n",
       "\n",
       "    .dataframe thead th {\n",
       "        text-align: right;\n",
       "    }\n",
       "</style>\n",
       "<table border=\"1\" class=\"dataframe\">\n",
       "  <thead>\n",
       "    <tr style=\"text-align: right;\">\n",
       "      <th></th>\n",
       "      <th>Company</th>\n",
       "      <th>Person</th>\n",
       "      <th>Sales</th>\n",
       "    </tr>\n",
       "  </thead>\n",
       "  <tbody>\n",
       "    <tr>\n",
       "      <th>0</th>\n",
       "      <td>GOOG</td>\n",
       "      <td>Sam</td>\n",
       "      <td>200.0</td>\n",
       "    </tr>\n",
       "    <tr>\n",
       "      <th>1</th>\n",
       "      <td>GOOG</td>\n",
       "      <td>Charlie</td>\n",
       "      <td>120.0</td>\n",
       "    </tr>\n",
       "    <tr>\n",
       "      <th>2</th>\n",
       "      <td>MSFT</td>\n",
       "      <td>Amy</td>\n",
       "      <td>340.0</td>\n",
       "    </tr>\n",
       "    <tr>\n",
       "      <th>3</th>\n",
       "      <td>MSFT</td>\n",
       "      <td>Vanessa</td>\n",
       "      <td>124.0</td>\n",
       "    </tr>\n",
       "    <tr>\n",
       "      <th>4</th>\n",
       "      <td>FB</td>\n",
       "      <td>Carl</td>\n",
       "      <td>243.0</td>\n",
       "    </tr>\n",
       "    <tr>\n",
       "      <th>5</th>\n",
       "      <td>FB</td>\n",
       "      <td>Sarah</td>\n",
       "      <td>350.0</td>\n",
       "    </tr>\n",
       "  </tbody>\n",
       "</table>\n",
       "</div>"
      ],
      "text/plain": [
       "  Company   Person  Sales\n",
       "0    GOOG      Sam  200.0\n",
       "1    GOOG  Charlie  120.0\n",
       "2    MSFT      Amy  340.0\n",
       "3    MSFT  Vanessa  124.0\n",
       "4      FB     Carl  243.0\n",
       "5      FB    Sarah  350.0"
      ]
     },
     "execution_count": 56,
     "metadata": {},
     "output_type": "execute_result"
    }
   ],
   "source": [
    "frame4"
   ]
  },
  {
   "cell_type": "code",
   "execution_count": 57,
   "id": "37d5a8f7",
   "metadata": {},
   "outputs": [],
   "source": [
    "by_company = frame4.groupby('Company')"
   ]
  },
  {
   "cell_type": "markdown",
   "id": "aa9cea8b",
   "metadata": {},
   "source": [
    "Groups the data in <b>'frame4'</b> by the 'Company' column, creating a GroupBy object."
   ]
  },
  {
   "cell_type": "code",
   "execution_count": 58,
   "id": "597abdae",
   "metadata": {},
   "outputs": [
    {
     "data": {
      "text/html": [
       "<div>\n",
       "<style scoped>\n",
       "    .dataframe tbody tr th:only-of-type {\n",
       "        vertical-align: middle;\n",
       "    }\n",
       "\n",
       "    .dataframe tbody tr th {\n",
       "        vertical-align: top;\n",
       "    }\n",
       "\n",
       "    .dataframe thead th {\n",
       "        text-align: right;\n",
       "    }\n",
       "</style>\n",
       "<table border=\"1\" class=\"dataframe\">\n",
       "  <thead>\n",
       "    <tr style=\"text-align: right;\">\n",
       "      <th></th>\n",
       "      <th>Sales</th>\n",
       "    </tr>\n",
       "    <tr>\n",
       "      <th>Company</th>\n",
       "      <th></th>\n",
       "    </tr>\n",
       "  </thead>\n",
       "  <tbody>\n",
       "    <tr>\n",
       "      <th>FB</th>\n",
       "      <td>296.5</td>\n",
       "    </tr>\n",
       "    <tr>\n",
       "      <th>GOOG</th>\n",
       "      <td>160.0</td>\n",
       "    </tr>\n",
       "    <tr>\n",
       "      <th>MSFT</th>\n",
       "      <td>232.0</td>\n",
       "    </tr>\n",
       "  </tbody>\n",
       "</table>\n",
       "</div>"
      ],
      "text/plain": [
       "         Sales\n",
       "Company       \n",
       "FB       296.5\n",
       "GOOG     160.0\n",
       "MSFT     232.0"
      ]
     },
     "execution_count": 58,
     "metadata": {},
     "output_type": "execute_result"
    }
   ],
   "source": [
    "by_company.mean()"
   ]
  },
  {
   "cell_type": "markdown",
   "id": "705c91ff",
   "metadata": {},
   "source": [
    "<b>by_company.mean()</b> calculates the mean of each numerical column for each group and returns a new DataFrame with the averaged results"
   ]
  },
  {
   "cell_type": "code",
   "execution_count": 59,
   "id": "7142267a",
   "metadata": {},
   "outputs": [
    {
     "data": {
      "text/plain": [
       "Sales    593.0\n",
       "Name: FB, dtype: float64"
      ]
     },
     "execution_count": 59,
     "metadata": {},
     "output_type": "execute_result"
    }
   ],
   "source": [
    "by_company.sum().loc['FB']"
   ]
  },
  {
   "cell_type": "markdown",
   "id": "27f85b43",
   "metadata": {},
   "source": [
    "To retrieve the sum of sales for a specific company (e.g., 'FB') after grouping by the <b>'Company'</b> column, you can use the <b>sum()</b> method on the GroupBy object and then use <b>.loc</b> to select the specific company's row."
   ]
  },
  {
   "cell_type": "code",
   "execution_count": 60,
   "id": "bbb57e28",
   "metadata": {},
   "outputs": [
    {
     "data": {
      "text/html": [
       "<div>\n",
       "<style scoped>\n",
       "    .dataframe tbody tr th:only-of-type {\n",
       "        vertical-align: middle;\n",
       "    }\n",
       "\n",
       "    .dataframe tbody tr th {\n",
       "        vertical-align: top;\n",
       "    }\n",
       "\n",
       "    .dataframe thead th {\n",
       "        text-align: right;\n",
       "    }\n",
       "</style>\n",
       "<table border=\"1\" class=\"dataframe\">\n",
       "  <thead>\n",
       "    <tr style=\"text-align: right;\">\n",
       "      <th></th>\n",
       "      <th>Person</th>\n",
       "      <th>Sales</th>\n",
       "    </tr>\n",
       "    <tr>\n",
       "      <th>Company</th>\n",
       "      <th></th>\n",
       "      <th></th>\n",
       "    </tr>\n",
       "  </thead>\n",
       "  <tbody>\n",
       "    <tr>\n",
       "      <th>FB</th>\n",
       "      <td>2</td>\n",
       "      <td>2</td>\n",
       "    </tr>\n",
       "    <tr>\n",
       "      <th>GOOG</th>\n",
       "      <td>2</td>\n",
       "      <td>2</td>\n",
       "    </tr>\n",
       "    <tr>\n",
       "      <th>MSFT</th>\n",
       "      <td>2</td>\n",
       "      <td>2</td>\n",
       "    </tr>\n",
       "  </tbody>\n",
       "</table>\n",
       "</div>"
      ],
      "text/plain": [
       "         Person  Sales\n",
       "Company               \n",
       "FB            2      2\n",
       "GOOG          2      2\n",
       "MSFT          2      2"
      ]
     },
     "execution_count": 60,
     "metadata": {},
     "output_type": "execute_result"
    }
   ],
   "source": [
    "by_company.count()"
   ]
  },
  {
   "cell_type": "markdown",
   "id": "8ffdc852",
   "metadata": {},
   "source": [
    "This method is used to count the number of <b>non-NA/null</b> entries for each column in each group. <br>When you use it on a GroupBy object, it will provide a <b>count of the non-null values</b> for each column in each group."
   ]
  },
  {
   "cell_type": "code",
   "execution_count": 61,
   "id": "562caef6",
   "metadata": {},
   "outputs": [
    {
     "data": {
      "text/html": [
       "<div>\n",
       "<style scoped>\n",
       "    .dataframe tbody tr th:only-of-type {\n",
       "        vertical-align: middle;\n",
       "    }\n",
       "\n",
       "    .dataframe tbody tr th {\n",
       "        vertical-align: top;\n",
       "    }\n",
       "\n",
       "    .dataframe thead th {\n",
       "        text-align: right;\n",
       "    }\n",
       "</style>\n",
       "<table border=\"1\" class=\"dataframe\">\n",
       "  <thead>\n",
       "    <tr style=\"text-align: right;\">\n",
       "      <th></th>\n",
       "      <th>Person</th>\n",
       "      <th>Sales</th>\n",
       "    </tr>\n",
       "    <tr>\n",
       "      <th>Company</th>\n",
       "      <th></th>\n",
       "      <th></th>\n",
       "    </tr>\n",
       "  </thead>\n",
       "  <tbody>\n",
       "    <tr>\n",
       "      <th>FB</th>\n",
       "      <td>Carl</td>\n",
       "      <td>243.0</td>\n",
       "    </tr>\n",
       "    <tr>\n",
       "      <th>GOOG</th>\n",
       "      <td>Charlie</td>\n",
       "      <td>120.0</td>\n",
       "    </tr>\n",
       "    <tr>\n",
       "      <th>MSFT</th>\n",
       "      <td>Amy</td>\n",
       "      <td>124.0</td>\n",
       "    </tr>\n",
       "  </tbody>\n",
       "</table>\n",
       "</div>"
      ],
      "text/plain": [
       "          Person  Sales\n",
       "Company                \n",
       "FB          Carl  243.0\n",
       "GOOG     Charlie  120.0\n",
       "MSFT         Amy  124.0"
      ]
     },
     "execution_count": 61,
     "metadata": {},
     "output_type": "execute_result"
    }
   ],
   "source": [
    "by_company.min()"
   ]
  },
  {
   "cell_type": "markdown",
   "id": "e26ac066",
   "metadata": {},
   "source": [
    "This method in pandas is used to compute the <b>minimum value</b> for each column in each group."
   ]
  },
  {
   "cell_type": "code",
   "execution_count": 62,
   "id": "c67225ae",
   "metadata": {},
   "outputs": [
    {
     "data": {
      "text/html": [
       "<div>\n",
       "<style scoped>\n",
       "    .dataframe tbody tr th:only-of-type {\n",
       "        vertical-align: middle;\n",
       "    }\n",
       "\n",
       "    .dataframe tbody tr th {\n",
       "        vertical-align: top;\n",
       "    }\n",
       "\n",
       "    .dataframe thead th {\n",
       "        text-align: right;\n",
       "    }\n",
       "</style>\n",
       "<table border=\"1\" class=\"dataframe\">\n",
       "  <thead>\n",
       "    <tr style=\"text-align: right;\">\n",
       "      <th></th>\n",
       "      <th>Person</th>\n",
       "      <th>Sales</th>\n",
       "    </tr>\n",
       "    <tr>\n",
       "      <th>Company</th>\n",
       "      <th></th>\n",
       "      <th></th>\n",
       "    </tr>\n",
       "  </thead>\n",
       "  <tbody>\n",
       "    <tr>\n",
       "      <th>FB</th>\n",
       "      <td>Sarah</td>\n",
       "      <td>350.0</td>\n",
       "    </tr>\n",
       "    <tr>\n",
       "      <th>GOOG</th>\n",
       "      <td>Sam</td>\n",
       "      <td>200.0</td>\n",
       "    </tr>\n",
       "    <tr>\n",
       "      <th>MSFT</th>\n",
       "      <td>Vanessa</td>\n",
       "      <td>340.0</td>\n",
       "    </tr>\n",
       "  </tbody>\n",
       "</table>\n",
       "</div>"
      ],
      "text/plain": [
       "          Person  Sales\n",
       "Company                \n",
       "FB         Sarah  350.0\n",
       "GOOG         Sam  200.0\n",
       "MSFT     Vanessa  340.0"
      ]
     },
     "execution_count": 62,
     "metadata": {},
     "output_type": "execute_result"
    }
   ],
   "source": [
    "by_company.max()"
   ]
  },
  {
   "cell_type": "markdown",
   "id": "fcd91ad9",
   "metadata": {},
   "source": [
    "This method in pandas is used to compute the <b>maximum value</b> for each column in each group."
   ]
  },
  {
   "cell_type": "code",
   "execution_count": 63,
   "id": "3187bc33",
   "metadata": {},
   "outputs": [
    {
     "data": {
      "text/html": [
       "<div>\n",
       "<style scoped>\n",
       "    .dataframe tbody tr th:only-of-type {\n",
       "        vertical-align: middle;\n",
       "    }\n",
       "\n",
       "    .dataframe tbody tr th {\n",
       "        vertical-align: top;\n",
       "    }\n",
       "\n",
       "    .dataframe thead tr th {\n",
       "        text-align: left;\n",
       "    }\n",
       "\n",
       "    .dataframe thead tr:last-of-type th {\n",
       "        text-align: right;\n",
       "    }\n",
       "</style>\n",
       "<table border=\"1\" class=\"dataframe\">\n",
       "  <thead>\n",
       "    <tr>\n",
       "      <th></th>\n",
       "      <th colspan=\"8\" halign=\"left\">Sales</th>\n",
       "    </tr>\n",
       "    <tr>\n",
       "      <th></th>\n",
       "      <th>count</th>\n",
       "      <th>mean</th>\n",
       "      <th>std</th>\n",
       "      <th>min</th>\n",
       "      <th>25%</th>\n",
       "      <th>50%</th>\n",
       "      <th>75%</th>\n",
       "      <th>max</th>\n",
       "    </tr>\n",
       "    <tr>\n",
       "      <th>Company</th>\n",
       "      <th></th>\n",
       "      <th></th>\n",
       "      <th></th>\n",
       "      <th></th>\n",
       "      <th></th>\n",
       "      <th></th>\n",
       "      <th></th>\n",
       "      <th></th>\n",
       "    </tr>\n",
       "  </thead>\n",
       "  <tbody>\n",
       "    <tr>\n",
       "      <th>FB</th>\n",
       "      <td>2.0</td>\n",
       "      <td>296.5</td>\n",
       "      <td>75.660426</td>\n",
       "      <td>243.0</td>\n",
       "      <td>269.75</td>\n",
       "      <td>296.5</td>\n",
       "      <td>323.25</td>\n",
       "      <td>350.0</td>\n",
       "    </tr>\n",
       "    <tr>\n",
       "      <th>GOOG</th>\n",
       "      <td>2.0</td>\n",
       "      <td>160.0</td>\n",
       "      <td>56.568542</td>\n",
       "      <td>120.0</td>\n",
       "      <td>140.00</td>\n",
       "      <td>160.0</td>\n",
       "      <td>180.00</td>\n",
       "      <td>200.0</td>\n",
       "    </tr>\n",
       "    <tr>\n",
       "      <th>MSFT</th>\n",
       "      <td>2.0</td>\n",
       "      <td>232.0</td>\n",
       "      <td>152.735065</td>\n",
       "      <td>124.0</td>\n",
       "      <td>178.00</td>\n",
       "      <td>232.0</td>\n",
       "      <td>286.00</td>\n",
       "      <td>340.0</td>\n",
       "    </tr>\n",
       "  </tbody>\n",
       "</table>\n",
       "</div>"
      ],
      "text/plain": [
       "        Sales                                                        \n",
       "        count   mean         std    min     25%    50%     75%    max\n",
       "Company                                                              \n",
       "FB        2.0  296.5   75.660426  243.0  269.75  296.5  323.25  350.0\n",
       "GOOG      2.0  160.0   56.568542  120.0  140.00  160.0  180.00  200.0\n",
       "MSFT      2.0  232.0  152.735065  124.0  178.00  232.0  286.00  340.0"
      ]
     },
     "execution_count": 63,
     "metadata": {},
     "output_type": "execute_result"
    }
   ],
   "source": [
    "by_company.describe()"
   ]
  },
  {
   "cell_type": "markdown",
   "id": "e6eaabaa",
   "metadata": {},
   "source": [
    "This method in pandas provides a summary of statistics for each column in each group, including <b>count</b>, <b>mean</b>, <b>standard deviation</b>, <b>min</b>, <b>25th percentile (Q1)</b>, <b>median (50th percentile)</b>, <b>75th percentile (Q3)</b>, and <b>max</b>. This method is useful for getting a quick overview of the distribution and spread of data within each group."
   ]
  },
  {
   "cell_type": "markdown",
   "id": "aaa798c2",
   "metadata": {},
   "source": [
    "<b>Merging</b> "
   ]
  },
  {
   "cell_type": "code",
   "execution_count": 64,
   "id": "e9e20212",
   "metadata": {},
   "outputs": [],
   "source": [
    "student_data = {'id': ['1001', '1002', '1003', '1004', '1005'],\n",
    "                'name': ['Louisa Decker', 'Sioned Allan', 'Cayden Collier', 'Jerome Rudd', 'Jibril Morrow'],\n",
    "                'section': ['3A', '3A', '3B', '3D', '3E']\n",
    "               }"
   ]
  },
  {
   "cell_type": "code",
   "execution_count": 65,
   "id": "e21972cd",
   "metadata": {},
   "outputs": [],
   "source": [
    "grades_data = {\n",
    "    'id': ['1001', '1002', '1003', '1004', '1005'],\n",
    "    'math': [91, 85, 86, 83, 75],\n",
    "    'filipino': [88, 77, 89, 93, 80],\n",
    "    'science': [92, 87, 85, 82, 78],\n",
    "    'english': [90, 86, 88, 89, 80]\n",
    "}"
   ]
  },
  {
   "cell_type": "code",
   "execution_count": 66,
   "id": "a7407cf7",
   "metadata": {},
   "outputs": [],
   "source": [
    "student = pd.DataFrame(student_data)"
   ]
  },
  {
   "cell_type": "code",
   "execution_count": 67,
   "id": "02a33a77",
   "metadata": {},
   "outputs": [],
   "source": [
    "grade = pd.DataFrame(grades_data)"
   ]
  },
  {
   "cell_type": "markdown",
   "id": "00fb34f0",
   "metadata": {},
   "source": [
    "Combines two DataFrames, <b>student</b> and <b>grade</b>, on the <b>id</b> column, is a common operation in pandas. "
   ]
  },
  {
   "cell_type": "code",
   "execution_count": 68,
   "id": "b1f144bb",
   "metadata": {},
   "outputs": [],
   "source": [
    "student_grades = pd.merge(student,grade,how='inner',on='id')"
   ]
  },
  {
   "cell_type": "code",
   "execution_count": 69,
   "id": "301124f7",
   "metadata": {},
   "outputs": [
    {
     "data": {
      "text/html": [
       "<div>\n",
       "<style scoped>\n",
       "    .dataframe tbody tr th:only-of-type {\n",
       "        vertical-align: middle;\n",
       "    }\n",
       "\n",
       "    .dataframe tbody tr th {\n",
       "        vertical-align: top;\n",
       "    }\n",
       "\n",
       "    .dataframe thead th {\n",
       "        text-align: right;\n",
       "    }\n",
       "</style>\n",
       "<table border=\"1\" class=\"dataframe\">\n",
       "  <thead>\n",
       "    <tr style=\"text-align: right;\">\n",
       "      <th></th>\n",
       "      <th>id</th>\n",
       "      <th>name</th>\n",
       "      <th>section</th>\n",
       "      <th>math</th>\n",
       "      <th>filipino</th>\n",
       "      <th>science</th>\n",
       "      <th>english</th>\n",
       "    </tr>\n",
       "  </thead>\n",
       "  <tbody>\n",
       "    <tr>\n",
       "      <th>0</th>\n",
       "      <td>1001</td>\n",
       "      <td>Louisa Decker</td>\n",
       "      <td>3A</td>\n",
       "      <td>91</td>\n",
       "      <td>88</td>\n",
       "      <td>92</td>\n",
       "      <td>90</td>\n",
       "    </tr>\n",
       "    <tr>\n",
       "      <th>1</th>\n",
       "      <td>1002</td>\n",
       "      <td>Sioned Allan</td>\n",
       "      <td>3A</td>\n",
       "      <td>85</td>\n",
       "      <td>77</td>\n",
       "      <td>87</td>\n",
       "      <td>86</td>\n",
       "    </tr>\n",
       "    <tr>\n",
       "      <th>2</th>\n",
       "      <td>1003</td>\n",
       "      <td>Cayden Collier</td>\n",
       "      <td>3B</td>\n",
       "      <td>86</td>\n",
       "      <td>89</td>\n",
       "      <td>85</td>\n",
       "      <td>88</td>\n",
       "    </tr>\n",
       "    <tr>\n",
       "      <th>3</th>\n",
       "      <td>1004</td>\n",
       "      <td>Jerome Rudd</td>\n",
       "      <td>3D</td>\n",
       "      <td>83</td>\n",
       "      <td>93</td>\n",
       "      <td>82</td>\n",
       "      <td>89</td>\n",
       "    </tr>\n",
       "    <tr>\n",
       "      <th>4</th>\n",
       "      <td>1005</td>\n",
       "      <td>Jibril Morrow</td>\n",
       "      <td>3E</td>\n",
       "      <td>75</td>\n",
       "      <td>80</td>\n",
       "      <td>78</td>\n",
       "      <td>80</td>\n",
       "    </tr>\n",
       "  </tbody>\n",
       "</table>\n",
       "</div>"
      ],
      "text/plain": [
       "     id            name section  math  filipino  science  english\n",
       "0  1001   Louisa Decker      3A    91        88       92       90\n",
       "1  1002    Sioned Allan      3A    85        77       87       86\n",
       "2  1003  Cayden Collier      3B    86        89       85       88\n",
       "3  1004     Jerome Rudd      3D    83        93       82       89\n",
       "4  1005   Jibril Morrow      3E    75        80       78       80"
      ]
     },
     "execution_count": 69,
     "metadata": {},
     "output_type": "execute_result"
    }
   ],
   "source": [
    "student_grades"
   ]
  },
  {
   "cell_type": "code",
   "execution_count": 70,
   "id": "ca9d3727",
   "metadata": {},
   "outputs": [],
   "source": [
    "student_df = pd.DataFrame(student_grades)"
   ]
  },
  {
   "cell_type": "code",
   "execution_count": 71,
   "id": "06fc55ba",
   "metadata": {},
   "outputs": [
    {
     "name": "stdout",
     "output_type": "stream",
     "text": [
      "<class 'pandas.core.frame.DataFrame'>\n",
      "Int64Index: 5 entries, 0 to 4\n",
      "Data columns (total 7 columns):\n",
      " #   Column    Non-Null Count  Dtype \n",
      "---  ------    --------------  ----- \n",
      " 0   id        5 non-null      object\n",
      " 1   name      5 non-null      object\n",
      " 2   section   5 non-null      object\n",
      " 3   math      5 non-null      int64 \n",
      " 4   filipino  5 non-null      int64 \n",
      " 5   science   5 non-null      int64 \n",
      " 6   english   5 non-null      int64 \n",
      "dtypes: int64(4), object(3)\n",
      "memory usage: 320.0+ bytes\n"
     ]
    }
   ],
   "source": [
    "student_df.info()"
   ]
  },
  {
   "cell_type": "markdown",
   "id": "2784c19b",
   "metadata": {},
   "source": [
    "Calculate the <b>total scores</b> for each student by summing their scores in specific subjects (math, Filipino, science, and English)."
   ]
  },
  {
   "cell_type": "code",
   "execution_count": 106,
   "id": "1ebab6d8",
   "metadata": {},
   "outputs": [],
   "source": [
    "total_scores = student_df[['math', 'filipino', 'science', 'english']].sum(axis=1)"
   ]
  },
  {
   "cell_type": "markdown",
   "id": "ef5718e2",
   "metadata": {},
   "source": [
    "Calculate the <b>GPA</b> based on the total scores you obtained earlier by normalizing the total scores against the maximum possible score and then rounding the result."
   ]
  },
  {
   "cell_type": "code",
   "execution_count": 107,
   "id": "79d5c696",
   "metadata": {},
   "outputs": [],
   "source": [
    "student_df['gpa'] = round((total_scores / 400) * 100)"
   ]
  },
  {
   "cell_type": "code",
   "execution_count": 108,
   "id": "ed073c13",
   "metadata": {},
   "outputs": [
    {
     "data": {
      "text/html": [
       "<div>\n",
       "<style scoped>\n",
       "    .dataframe tbody tr th:only-of-type {\n",
       "        vertical-align: middle;\n",
       "    }\n",
       "\n",
       "    .dataframe tbody tr th {\n",
       "        vertical-align: top;\n",
       "    }\n",
       "\n",
       "    .dataframe thead th {\n",
       "        text-align: right;\n",
       "    }\n",
       "</style>\n",
       "<table border=\"1\" class=\"dataframe\">\n",
       "  <thead>\n",
       "    <tr style=\"text-align: right;\">\n",
       "      <th></th>\n",
       "      <th>id</th>\n",
       "      <th>name</th>\n",
       "      <th>section</th>\n",
       "      <th>math</th>\n",
       "      <th>filipino</th>\n",
       "      <th>science</th>\n",
       "      <th>english</th>\n",
       "      <th>gpa</th>\n",
       "      <th>grade</th>\n",
       "    </tr>\n",
       "  </thead>\n",
       "  <tbody>\n",
       "    <tr>\n",
       "      <th>0</th>\n",
       "      <td>1001</td>\n",
       "      <td>Louisa Decker</td>\n",
       "      <td>3A</td>\n",
       "      <td>91</td>\n",
       "      <td>88</td>\n",
       "      <td>92</td>\n",
       "      <td>90</td>\n",
       "      <td>90.0</td>\n",
       "      <td>A+</td>\n",
       "    </tr>\n",
       "    <tr>\n",
       "      <th>1</th>\n",
       "      <td>1002</td>\n",
       "      <td>Sioned Allan</td>\n",
       "      <td>3A</td>\n",
       "      <td>85</td>\n",
       "      <td>77</td>\n",
       "      <td>87</td>\n",
       "      <td>86</td>\n",
       "      <td>84.0</td>\n",
       "      <td>B</td>\n",
       "    </tr>\n",
       "    <tr>\n",
       "      <th>2</th>\n",
       "      <td>1003</td>\n",
       "      <td>Cayden Collier</td>\n",
       "      <td>3B</td>\n",
       "      <td>86</td>\n",
       "      <td>89</td>\n",
       "      <td>85</td>\n",
       "      <td>88</td>\n",
       "      <td>87.0</td>\n",
       "      <td>A</td>\n",
       "    </tr>\n",
       "    <tr>\n",
       "      <th>3</th>\n",
       "      <td>1004</td>\n",
       "      <td>Jerome Rudd</td>\n",
       "      <td>3D</td>\n",
       "      <td>83</td>\n",
       "      <td>93</td>\n",
       "      <td>82</td>\n",
       "      <td>89</td>\n",
       "      <td>87.0</td>\n",
       "      <td>A</td>\n",
       "    </tr>\n",
       "    <tr>\n",
       "      <th>4</th>\n",
       "      <td>1005</td>\n",
       "      <td>Jibril Morrow</td>\n",
       "      <td>3E</td>\n",
       "      <td>75</td>\n",
       "      <td>80</td>\n",
       "      <td>78</td>\n",
       "      <td>80</td>\n",
       "      <td>78.0</td>\n",
       "      <td>B+</td>\n",
       "    </tr>\n",
       "  </tbody>\n",
       "</table>\n",
       "</div>"
      ],
      "text/plain": [
       "     id            name section  math  filipino  science  english   gpa grade\n",
       "0  1001   Louisa Decker      3A    91        88       92       90  90.0    A+\n",
       "1  1002    Sioned Allan      3A    85        77       87       86  84.0     B\n",
       "2  1003  Cayden Collier      3B    86        89       85       88  87.0     A\n",
       "3  1004     Jerome Rudd      3D    83        93       82       89  87.0     A\n",
       "4  1005   Jibril Morrow      3E    75        80       78       80  78.0    B+"
      ]
     },
     "execution_count": 108,
     "metadata": {},
     "output_type": "execute_result"
    }
   ],
   "source": [
    "student_df"
   ]
  },
  {
   "cell_type": "markdown",
   "id": "9bd9ca11",
   "metadata": {},
   "source": [
    "<b>Function Application</b>"
   ]
  },
  {
   "cell_type": "code",
   "execution_count": 109,
   "id": "12a92223",
   "metadata": {},
   "outputs": [],
   "source": [
    "student_df['remarks'] = student_df['gpa'].apply(lambda grade: 'Passed' if grade > 74 else 'Failed')"
   ]
  },
  {
   "cell_type": "markdown",
   "id": "5285bbc1",
   "metadata": {},
   "source": [
    "Using <b>apply</b>: The apply method is called on the <b>'gpa'</b> column. This allows you to apply a function to each element in that column. <br>\n",
    "<b>Lambda Function</b>: The lambda function checks if the grade (GPA) is greater than 75. If it is, it returns 'Passed'; otherwise, it returns 'Failed'. <br>\n",
    "The <b>remarks</b> of the classification are stored in a new column named <b>'status'</b>."
   ]
  },
  {
   "cell_type": "code",
   "execution_count": 111,
   "id": "e2f60932",
   "metadata": {},
   "outputs": [
    {
     "data": {
      "text/html": [
       "<div>\n",
       "<style scoped>\n",
       "    .dataframe tbody tr th:only-of-type {\n",
       "        vertical-align: middle;\n",
       "    }\n",
       "\n",
       "    .dataframe tbody tr th {\n",
       "        vertical-align: top;\n",
       "    }\n",
       "\n",
       "    .dataframe thead th {\n",
       "        text-align: right;\n",
       "    }\n",
       "</style>\n",
       "<table border=\"1\" class=\"dataframe\">\n",
       "  <thead>\n",
       "    <tr style=\"text-align: right;\">\n",
       "      <th></th>\n",
       "      <th>id</th>\n",
       "      <th>name</th>\n",
       "      <th>section</th>\n",
       "      <th>math</th>\n",
       "      <th>filipino</th>\n",
       "      <th>science</th>\n",
       "      <th>english</th>\n",
       "      <th>gpa</th>\n",
       "      <th>grade</th>\n",
       "      <th>remarks</th>\n",
       "    </tr>\n",
       "  </thead>\n",
       "  <tbody>\n",
       "    <tr>\n",
       "      <th>0</th>\n",
       "      <td>1001</td>\n",
       "      <td>Louisa Decker</td>\n",
       "      <td>3A</td>\n",
       "      <td>91</td>\n",
       "      <td>88</td>\n",
       "      <td>92</td>\n",
       "      <td>90</td>\n",
       "      <td>90.0</td>\n",
       "      <td>A+</td>\n",
       "      <td>Passed</td>\n",
       "    </tr>\n",
       "    <tr>\n",
       "      <th>1</th>\n",
       "      <td>1002</td>\n",
       "      <td>Sioned Allan</td>\n",
       "      <td>3A</td>\n",
       "      <td>85</td>\n",
       "      <td>77</td>\n",
       "      <td>87</td>\n",
       "      <td>86</td>\n",
       "      <td>84.0</td>\n",
       "      <td>B</td>\n",
       "      <td>Passed</td>\n",
       "    </tr>\n",
       "    <tr>\n",
       "      <th>2</th>\n",
       "      <td>1003</td>\n",
       "      <td>Cayden Collier</td>\n",
       "      <td>3B</td>\n",
       "      <td>86</td>\n",
       "      <td>89</td>\n",
       "      <td>85</td>\n",
       "      <td>88</td>\n",
       "      <td>87.0</td>\n",
       "      <td>A</td>\n",
       "      <td>Passed</td>\n",
       "    </tr>\n",
       "    <tr>\n",
       "      <th>3</th>\n",
       "      <td>1004</td>\n",
       "      <td>Jerome Rudd</td>\n",
       "      <td>3D</td>\n",
       "      <td>83</td>\n",
       "      <td>93</td>\n",
       "      <td>82</td>\n",
       "      <td>89</td>\n",
       "      <td>87.0</td>\n",
       "      <td>A</td>\n",
       "      <td>Passed</td>\n",
       "    </tr>\n",
       "    <tr>\n",
       "      <th>4</th>\n",
       "      <td>1005</td>\n",
       "      <td>Jibril Morrow</td>\n",
       "      <td>3E</td>\n",
       "      <td>75</td>\n",
       "      <td>80</td>\n",
       "      <td>78</td>\n",
       "      <td>80</td>\n",
       "      <td>78.0</td>\n",
       "      <td>B+</td>\n",
       "      <td>Passed</td>\n",
       "    </tr>\n",
       "  </tbody>\n",
       "</table>\n",
       "</div>"
      ],
      "text/plain": [
       "     id            name section  math  filipino  science  english   gpa grade  \\\n",
       "0  1001   Louisa Decker      3A    91        88       92       90  90.0    A+   \n",
       "1  1002    Sioned Allan      3A    85        77       87       86  84.0     B   \n",
       "2  1003  Cayden Collier      3B    86        89       85       88  87.0     A   \n",
       "3  1004     Jerome Rudd      3D    83        93       82       89  87.0     A   \n",
       "4  1005   Jibril Morrow      3E    75        80       78       80  78.0    B+   \n",
       "\n",
       "  remarks  \n",
       "0  Passed  \n",
       "1  Passed  \n",
       "2  Passed  \n",
       "3  Passed  \n",
       "4  Passed  "
      ]
     },
     "execution_count": 111,
     "metadata": {},
     "output_type": "execute_result"
    }
   ],
   "source": [
    "student_df"
   ]
  },
  {
   "cell_type": "code",
   "execution_count": 77,
   "id": "9148aaac",
   "metadata": {},
   "outputs": [],
   "source": [
    "def getLetterGrade(grade):\n",
    "    if grade >= 90 and grade <= 100:\n",
    "        return \"A+\"\n",
    "    elif grade >= 85 and grade <= 89:\n",
    "        return \"A\"\n",
    "    elif grade >= 80 and grade <= 84:\n",
    "        return \"B\"\n",
    "    elif grade >= 77 and grade <= 79:\n",
    "        return \"B+\"\n",
    "    elif grade >= 73 and grade <= 76:\n",
    "        return \"B\"\n",
    "    elif grade >= 70 and grade <= 72:\n",
    "        return \"B-\"\n",
    "    else:\n",
    "        return 'C+ below'"
   ]
  },
  {
   "cell_type": "code",
   "execution_count": 78,
   "id": "695ee702",
   "metadata": {},
   "outputs": [],
   "source": [
    "student_df['grade'] = student_df['gpa'].apply(getLetterGrade)"
   ]
  },
  {
   "cell_type": "code",
   "execution_count": 79,
   "id": "2c744c77",
   "metadata": {},
   "outputs": [
    {
     "data": {
      "text/html": [
       "<div>\n",
       "<style scoped>\n",
       "    .dataframe tbody tr th:only-of-type {\n",
       "        vertical-align: middle;\n",
       "    }\n",
       "\n",
       "    .dataframe tbody tr th {\n",
       "        vertical-align: top;\n",
       "    }\n",
       "\n",
       "    .dataframe thead th {\n",
       "        text-align: right;\n",
       "    }\n",
       "</style>\n",
       "<table border=\"1\" class=\"dataframe\">\n",
       "  <thead>\n",
       "    <tr style=\"text-align: right;\">\n",
       "      <th></th>\n",
       "      <th>id</th>\n",
       "      <th>name</th>\n",
       "      <th>section</th>\n",
       "      <th>math</th>\n",
       "      <th>filipino</th>\n",
       "      <th>science</th>\n",
       "      <th>english</th>\n",
       "      <th>gpa</th>\n",
       "      <th>grade</th>\n",
       "    </tr>\n",
       "  </thead>\n",
       "  <tbody>\n",
       "    <tr>\n",
       "      <th>0</th>\n",
       "      <td>1001</td>\n",
       "      <td>Louisa Decker</td>\n",
       "      <td>3A</td>\n",
       "      <td>91</td>\n",
       "      <td>88</td>\n",
       "      <td>92</td>\n",
       "      <td>90</td>\n",
       "      <td>90.0</td>\n",
       "      <td>A+</td>\n",
       "    </tr>\n",
       "    <tr>\n",
       "      <th>1</th>\n",
       "      <td>1002</td>\n",
       "      <td>Sioned Allan</td>\n",
       "      <td>3A</td>\n",
       "      <td>85</td>\n",
       "      <td>77</td>\n",
       "      <td>87</td>\n",
       "      <td>86</td>\n",
       "      <td>84.0</td>\n",
       "      <td>B</td>\n",
       "    </tr>\n",
       "    <tr>\n",
       "      <th>2</th>\n",
       "      <td>1003</td>\n",
       "      <td>Cayden Collier</td>\n",
       "      <td>3B</td>\n",
       "      <td>86</td>\n",
       "      <td>89</td>\n",
       "      <td>85</td>\n",
       "      <td>88</td>\n",
       "      <td>87.0</td>\n",
       "      <td>A</td>\n",
       "    </tr>\n",
       "    <tr>\n",
       "      <th>3</th>\n",
       "      <td>1004</td>\n",
       "      <td>Jerome Rudd</td>\n",
       "      <td>3D</td>\n",
       "      <td>83</td>\n",
       "      <td>93</td>\n",
       "      <td>82</td>\n",
       "      <td>89</td>\n",
       "      <td>87.0</td>\n",
       "      <td>A</td>\n",
       "    </tr>\n",
       "    <tr>\n",
       "      <th>4</th>\n",
       "      <td>1005</td>\n",
       "      <td>Jibril Morrow</td>\n",
       "      <td>3E</td>\n",
       "      <td>75</td>\n",
       "      <td>80</td>\n",
       "      <td>78</td>\n",
       "      <td>80</td>\n",
       "      <td>78.0</td>\n",
       "      <td>B+</td>\n",
       "    </tr>\n",
       "  </tbody>\n",
       "</table>\n",
       "</div>"
      ],
      "text/plain": [
       "     id            name section  math  filipino  science  english   gpa grade\n",
       "0  1001   Louisa Decker      3A    91        88       92       90  90.0    A+\n",
       "1  1002    Sioned Allan      3A    85        77       87       86  84.0     B\n",
       "2  1003  Cayden Collier      3B    86        89       85       88  87.0     A\n",
       "3  1004     Jerome Rudd      3D    83        93       82       89  87.0     A\n",
       "4  1005   Jibril Morrow      3E    75        80       78       80  78.0    B+"
      ]
     },
     "execution_count": 79,
     "metadata": {},
     "output_type": "execute_result"
    }
   ],
   "source": [
    "student_df"
   ]
  },
  {
   "cell_type": "markdown",
   "id": "0205e6f9",
   "metadata": {},
   "source": [
    "<b>Filtering missing out data</b>"
   ]
  },
  {
   "cell_type": "code",
   "execution_count": 80,
   "id": "ef17d558",
   "metadata": {},
   "outputs": [],
   "source": [
    "data = pd.DataFrame([[1., 6.5, 3.5],[1., np.nan, np.nan]])"
   ]
  },
  {
   "cell_type": "code",
   "execution_count": 81,
   "id": "ed03d5d7",
   "metadata": {},
   "outputs": [
    {
     "data": {
      "text/html": [
       "<div>\n",
       "<style scoped>\n",
       "    .dataframe tbody tr th:only-of-type {\n",
       "        vertical-align: middle;\n",
       "    }\n",
       "\n",
       "    .dataframe tbody tr th {\n",
       "        vertical-align: top;\n",
       "    }\n",
       "\n",
       "    .dataframe thead th {\n",
       "        text-align: right;\n",
       "    }\n",
       "</style>\n",
       "<table border=\"1\" class=\"dataframe\">\n",
       "  <thead>\n",
       "    <tr style=\"text-align: right;\">\n",
       "      <th></th>\n",
       "      <th>0</th>\n",
       "      <th>1</th>\n",
       "      <th>2</th>\n",
       "    </tr>\n",
       "  </thead>\n",
       "  <tbody>\n",
       "    <tr>\n",
       "      <th>0</th>\n",
       "      <td>1.0</td>\n",
       "      <td>6.5</td>\n",
       "      <td>3.5</td>\n",
       "    </tr>\n",
       "    <tr>\n",
       "      <th>1</th>\n",
       "      <td>1.0</td>\n",
       "      <td>NaN</td>\n",
       "      <td>NaN</td>\n",
       "    </tr>\n",
       "  </tbody>\n",
       "</table>\n",
       "</div>"
      ],
      "text/plain": [
       "     0    1    2\n",
       "0  1.0  6.5  3.5\n",
       "1  1.0  NaN  NaN"
      ]
     },
     "execution_count": 81,
     "metadata": {},
     "output_type": "execute_result"
    }
   ],
   "source": [
    "data"
   ]
  },
  {
   "cell_type": "markdown",
   "id": "a626a8d2",
   "metadata": {},
   "source": [
    "Removes any rows from a DataFrame that contain missing values (NaNs). "
   ]
  },
  {
   "cell_type": "code",
   "execution_count": 82,
   "id": "70d99e4d",
   "metadata": {},
   "outputs": [],
   "source": [
    "cleaned = data.dropna()"
   ]
  },
  {
   "cell_type": "code",
   "execution_count": 83,
   "id": "c84df7b7",
   "metadata": {},
   "outputs": [
    {
     "data": {
      "text/html": [
       "<div>\n",
       "<style scoped>\n",
       "    .dataframe tbody tr th:only-of-type {\n",
       "        vertical-align: middle;\n",
       "    }\n",
       "\n",
       "    .dataframe tbody tr th {\n",
       "        vertical-align: top;\n",
       "    }\n",
       "\n",
       "    .dataframe thead th {\n",
       "        text-align: right;\n",
       "    }\n",
       "</style>\n",
       "<table border=\"1\" class=\"dataframe\">\n",
       "  <thead>\n",
       "    <tr style=\"text-align: right;\">\n",
       "      <th></th>\n",
       "      <th>0</th>\n",
       "      <th>1</th>\n",
       "      <th>2</th>\n",
       "    </tr>\n",
       "  </thead>\n",
       "  <tbody>\n",
       "    <tr>\n",
       "      <th>0</th>\n",
       "      <td>1.0</td>\n",
       "      <td>6.5</td>\n",
       "      <td>3.5</td>\n",
       "    </tr>\n",
       "  </tbody>\n",
       "</table>\n",
       "</div>"
      ],
      "text/plain": [
       "     0    1    2\n",
       "0  1.0  6.5  3.5"
      ]
     },
     "execution_count": 83,
     "metadata": {},
     "output_type": "execute_result"
    }
   ],
   "source": [
    "cleaned"
   ]
  },
  {
   "cell_type": "markdown",
   "id": "7a00e5b8",
   "metadata": {},
   "source": [
    "A method used to remove rows from a DataFrame that contain only missing values (NaNs). "
   ]
  },
  {
   "cell_type": "code",
   "execution_count": 84,
   "id": "0a01a54f",
   "metadata": {},
   "outputs": [
    {
     "data": {
      "text/html": [
       "<div>\n",
       "<style scoped>\n",
       "    .dataframe tbody tr th:only-of-type {\n",
       "        vertical-align: middle;\n",
       "    }\n",
       "\n",
       "    .dataframe tbody tr th {\n",
       "        vertical-align: top;\n",
       "    }\n",
       "\n",
       "    .dataframe thead th {\n",
       "        text-align: right;\n",
       "    }\n",
       "</style>\n",
       "<table border=\"1\" class=\"dataframe\">\n",
       "  <thead>\n",
       "    <tr style=\"text-align: right;\">\n",
       "      <th></th>\n",
       "      <th>0</th>\n",
       "      <th>1</th>\n",
       "      <th>2</th>\n",
       "    </tr>\n",
       "  </thead>\n",
       "  <tbody>\n",
       "    <tr>\n",
       "      <th>0</th>\n",
       "      <td>1.0</td>\n",
       "      <td>6.5</td>\n",
       "      <td>3.5</td>\n",
       "    </tr>\n",
       "    <tr>\n",
       "      <th>1</th>\n",
       "      <td>1.0</td>\n",
       "      <td>NaN</td>\n",
       "      <td>NaN</td>\n",
       "    </tr>\n",
       "  </tbody>\n",
       "</table>\n",
       "</div>"
      ],
      "text/plain": [
       "     0    1    2\n",
       "0  1.0  6.5  3.5\n",
       "1  1.0  NaN  NaN"
      ]
     },
     "execution_count": 84,
     "metadata": {},
     "output_type": "execute_result"
    }
   ],
   "source": [
    "data.dropna(how='all')"
   ]
  },
  {
   "cell_type": "markdown",
   "id": "bfc3b8bc",
   "metadata": {},
   "source": [
    "If set to <b>'all'</b>, it will drop a row only if all the values in that row are NaN.\n",
    "If set to <b>'any'</b> (the default), it will drop the row if any value is NaN."
   ]
  },
  {
   "cell_type": "code",
   "execution_count": 85,
   "id": "7f453cb0",
   "metadata": {},
   "outputs": [],
   "source": [
    "data_population = {\n",
    "        'state': ['Ohio', 'Ohio', 'Ohio', 'Nevada', 'Nevada', 'Nevada'],\n",
    "        'year' : ['2000', '2001', '2002', '2001', '2002', '2003'],\n",
    "        'population' : [1.5, 1.7, 3.6, 2.4, 2.9, 3.2]\n",
    "       }"
   ]
  },
  {
   "cell_type": "code",
   "execution_count": 86,
   "id": "c227a35f",
   "metadata": {},
   "outputs": [],
   "source": [
    "data_state = pd.DataFrame(data_population, columns=['state', 'year', 'population', 'dept'], index=['A', 'B', 'C', 'D', 'E', 'F'])"
   ]
  },
  {
   "cell_type": "code",
   "execution_count": 87,
   "id": "69f568e0",
   "metadata": {},
   "outputs": [
    {
     "data": {
      "text/html": [
       "<div>\n",
       "<style scoped>\n",
       "    .dataframe tbody tr th:only-of-type {\n",
       "        vertical-align: middle;\n",
       "    }\n",
       "\n",
       "    .dataframe tbody tr th {\n",
       "        vertical-align: top;\n",
       "    }\n",
       "\n",
       "    .dataframe thead th {\n",
       "        text-align: right;\n",
       "    }\n",
       "</style>\n",
       "<table border=\"1\" class=\"dataframe\">\n",
       "  <thead>\n",
       "    <tr style=\"text-align: right;\">\n",
       "      <th></th>\n",
       "      <th>state</th>\n",
       "      <th>year</th>\n",
       "      <th>population</th>\n",
       "      <th>dept</th>\n",
       "    </tr>\n",
       "  </thead>\n",
       "  <tbody>\n",
       "    <tr>\n",
       "      <th>A</th>\n",
       "      <td>Ohio</td>\n",
       "      <td>2000</td>\n",
       "      <td>1.5</td>\n",
       "      <td>NaN</td>\n",
       "    </tr>\n",
       "    <tr>\n",
       "      <th>B</th>\n",
       "      <td>Ohio</td>\n",
       "      <td>2001</td>\n",
       "      <td>1.7</td>\n",
       "      <td>NaN</td>\n",
       "    </tr>\n",
       "    <tr>\n",
       "      <th>C</th>\n",
       "      <td>Ohio</td>\n",
       "      <td>2002</td>\n",
       "      <td>3.6</td>\n",
       "      <td>NaN</td>\n",
       "    </tr>\n",
       "    <tr>\n",
       "      <th>D</th>\n",
       "      <td>Nevada</td>\n",
       "      <td>2001</td>\n",
       "      <td>2.4</td>\n",
       "      <td>NaN</td>\n",
       "    </tr>\n",
       "    <tr>\n",
       "      <th>E</th>\n",
       "      <td>Nevada</td>\n",
       "      <td>2002</td>\n",
       "      <td>2.9</td>\n",
       "      <td>NaN</td>\n",
       "    </tr>\n",
       "    <tr>\n",
       "      <th>F</th>\n",
       "      <td>Nevada</td>\n",
       "      <td>2003</td>\n",
       "      <td>3.2</td>\n",
       "      <td>NaN</td>\n",
       "    </tr>\n",
       "  </tbody>\n",
       "</table>\n",
       "</div>"
      ],
      "text/plain": [
       "    state  year  population dept\n",
       "A    Ohio  2000         1.5  NaN\n",
       "B    Ohio  2001         1.7  NaN\n",
       "C    Ohio  2002         3.6  NaN\n",
       "D  Nevada  2001         2.4  NaN\n",
       "E  Nevada  2002         2.9  NaN\n",
       "F  Nevada  2003         3.2  NaN"
      ]
     },
     "execution_count": 87,
     "metadata": {},
     "output_type": "execute_result"
    }
   ],
   "source": [
    "data_state"
   ]
  },
  {
   "cell_type": "markdown",
   "id": "3dd25837",
   "metadata": {},
   "source": [
    "Remove columns from a DataFrame that contain only missing values (NaNs)."
   ]
  },
  {
   "cell_type": "code",
   "execution_count": 88,
   "id": "055bd867",
   "metadata": {},
   "outputs": [
    {
     "data": {
      "text/html": [
       "<div>\n",
       "<style scoped>\n",
       "    .dataframe tbody tr th:only-of-type {\n",
       "        vertical-align: middle;\n",
       "    }\n",
       "\n",
       "    .dataframe tbody tr th {\n",
       "        vertical-align: top;\n",
       "    }\n",
       "\n",
       "    .dataframe thead th {\n",
       "        text-align: right;\n",
       "    }\n",
       "</style>\n",
       "<table border=\"1\" class=\"dataframe\">\n",
       "  <thead>\n",
       "    <tr style=\"text-align: right;\">\n",
       "      <th></th>\n",
       "      <th>state</th>\n",
       "      <th>year</th>\n",
       "      <th>population</th>\n",
       "    </tr>\n",
       "  </thead>\n",
       "  <tbody>\n",
       "    <tr>\n",
       "      <th>A</th>\n",
       "      <td>Ohio</td>\n",
       "      <td>2000</td>\n",
       "      <td>1.5</td>\n",
       "    </tr>\n",
       "    <tr>\n",
       "      <th>B</th>\n",
       "      <td>Ohio</td>\n",
       "      <td>2001</td>\n",
       "      <td>1.7</td>\n",
       "    </tr>\n",
       "    <tr>\n",
       "      <th>C</th>\n",
       "      <td>Ohio</td>\n",
       "      <td>2002</td>\n",
       "      <td>3.6</td>\n",
       "    </tr>\n",
       "    <tr>\n",
       "      <th>D</th>\n",
       "      <td>Nevada</td>\n",
       "      <td>2001</td>\n",
       "      <td>2.4</td>\n",
       "    </tr>\n",
       "    <tr>\n",
       "      <th>E</th>\n",
       "      <td>Nevada</td>\n",
       "      <td>2002</td>\n",
       "      <td>2.9</td>\n",
       "    </tr>\n",
       "    <tr>\n",
       "      <th>F</th>\n",
       "      <td>Nevada</td>\n",
       "      <td>2003</td>\n",
       "      <td>3.2</td>\n",
       "    </tr>\n",
       "  </tbody>\n",
       "</table>\n",
       "</div>"
      ],
      "text/plain": [
       "    state  year  population\n",
       "A    Ohio  2000         1.5\n",
       "B    Ohio  2001         1.7\n",
       "C    Ohio  2002         3.6\n",
       "D  Nevada  2001         2.4\n",
       "E  Nevada  2002         2.9\n",
       "F  Nevada  2003         3.2"
      ]
     },
     "execution_count": 88,
     "metadata": {},
     "output_type": "execute_result"
    }
   ],
   "source": [
    "data_state.dropna(axis=1, how='all')"
   ]
  },
  {
   "cell_type": "markdown",
   "id": "de450ebe",
   "metadata": {},
   "source": [
    "<b>Removing Duplicates</b>"
   ]
  },
  {
   "cell_type": "code",
   "execution_count": 89,
   "id": "873c2c51",
   "metadata": {},
   "outputs": [],
   "source": [
    "data_dup = pd.DataFrame({\n",
    "        'k1': ['one', 'two'] * 3 + ['two'], \n",
    "        'k2': [1, 1, 2, 3, 3, 4, 4]\n",
    "})"
   ]
  },
  {
   "cell_type": "code",
   "execution_count": 90,
   "id": "2fc40166",
   "metadata": {},
   "outputs": [
    {
     "data": {
      "text/html": [
       "<div>\n",
       "<style scoped>\n",
       "    .dataframe tbody tr th:only-of-type {\n",
       "        vertical-align: middle;\n",
       "    }\n",
       "\n",
       "    .dataframe tbody tr th {\n",
       "        vertical-align: top;\n",
       "    }\n",
       "\n",
       "    .dataframe thead th {\n",
       "        text-align: right;\n",
       "    }\n",
       "</style>\n",
       "<table border=\"1\" class=\"dataframe\">\n",
       "  <thead>\n",
       "    <tr style=\"text-align: right;\">\n",
       "      <th></th>\n",
       "      <th>k1</th>\n",
       "      <th>k2</th>\n",
       "    </tr>\n",
       "  </thead>\n",
       "  <tbody>\n",
       "    <tr>\n",
       "      <th>0</th>\n",
       "      <td>one</td>\n",
       "      <td>1</td>\n",
       "    </tr>\n",
       "    <tr>\n",
       "      <th>1</th>\n",
       "      <td>two</td>\n",
       "      <td>1</td>\n",
       "    </tr>\n",
       "    <tr>\n",
       "      <th>2</th>\n",
       "      <td>one</td>\n",
       "      <td>2</td>\n",
       "    </tr>\n",
       "    <tr>\n",
       "      <th>3</th>\n",
       "      <td>two</td>\n",
       "      <td>3</td>\n",
       "    </tr>\n",
       "    <tr>\n",
       "      <th>4</th>\n",
       "      <td>one</td>\n",
       "      <td>3</td>\n",
       "    </tr>\n",
       "    <tr>\n",
       "      <th>5</th>\n",
       "      <td>two</td>\n",
       "      <td>4</td>\n",
       "    </tr>\n",
       "    <tr>\n",
       "      <th>6</th>\n",
       "      <td>two</td>\n",
       "      <td>4</td>\n",
       "    </tr>\n",
       "  </tbody>\n",
       "</table>\n",
       "</div>"
      ],
      "text/plain": [
       "    k1  k2\n",
       "0  one   1\n",
       "1  two   1\n",
       "2  one   2\n",
       "3  two   3\n",
       "4  one   3\n",
       "5  two   4\n",
       "6  two   4"
      ]
     },
     "execution_count": 90,
     "metadata": {},
     "output_type": "execute_result"
    }
   ],
   "source": [
    "data_dup"
   ]
  },
  {
   "cell_type": "code",
   "execution_count": 91,
   "id": "2abca1d9",
   "metadata": {},
   "outputs": [
    {
     "data": {
      "text/plain": [
       "0    False\n",
       "1    False\n",
       "2    False\n",
       "3    False\n",
       "4    False\n",
       "5    False\n",
       "6     True\n",
       "dtype: bool"
      ]
     },
     "execution_count": 91,
     "metadata": {},
     "output_type": "execute_result"
    }
   ],
   "source": [
    "data_dup.duplicated()"
   ]
  },
  {
   "cell_type": "code",
   "execution_count": 92,
   "id": "2539e75c",
   "metadata": {},
   "outputs": [
    {
     "data": {
      "text/html": [
       "<div>\n",
       "<style scoped>\n",
       "    .dataframe tbody tr th:only-of-type {\n",
       "        vertical-align: middle;\n",
       "    }\n",
       "\n",
       "    .dataframe tbody tr th {\n",
       "        vertical-align: top;\n",
       "    }\n",
       "\n",
       "    .dataframe thead th {\n",
       "        text-align: right;\n",
       "    }\n",
       "</style>\n",
       "<table border=\"1\" class=\"dataframe\">\n",
       "  <thead>\n",
       "    <tr style=\"text-align: right;\">\n",
       "      <th></th>\n",
       "      <th>k1</th>\n",
       "      <th>k2</th>\n",
       "    </tr>\n",
       "  </thead>\n",
       "  <tbody>\n",
       "    <tr>\n",
       "      <th>0</th>\n",
       "      <td>one</td>\n",
       "      <td>1</td>\n",
       "    </tr>\n",
       "    <tr>\n",
       "      <th>1</th>\n",
       "      <td>two</td>\n",
       "      <td>1</td>\n",
       "    </tr>\n",
       "    <tr>\n",
       "      <th>2</th>\n",
       "      <td>one</td>\n",
       "      <td>2</td>\n",
       "    </tr>\n",
       "    <tr>\n",
       "      <th>3</th>\n",
       "      <td>two</td>\n",
       "      <td>3</td>\n",
       "    </tr>\n",
       "    <tr>\n",
       "      <th>4</th>\n",
       "      <td>one</td>\n",
       "      <td>3</td>\n",
       "    </tr>\n",
       "    <tr>\n",
       "      <th>5</th>\n",
       "      <td>two</td>\n",
       "      <td>4</td>\n",
       "    </tr>\n",
       "  </tbody>\n",
       "</table>\n",
       "</div>"
      ],
      "text/plain": [
       "    k1  k2\n",
       "0  one   1\n",
       "1  two   1\n",
       "2  one   2\n",
       "3  two   3\n",
       "4  one   3\n",
       "5  two   4"
      ]
     },
     "execution_count": 92,
     "metadata": {},
     "output_type": "execute_result"
    }
   ],
   "source": [
    "data_dup.drop_duplicates()"
   ]
  },
  {
   "cell_type": "code",
   "execution_count": null,
   "id": "ab954bc0",
   "metadata": {},
   "outputs": [],
   "source": []
  }
 ],
 "metadata": {
  "kernelspec": {
   "display_name": "Python 3 (ipykernel)",
   "language": "python",
   "name": "python3"
  },
  "language_info": {
   "codemirror_mode": {
    "name": "ipython",
    "version": 3
   },
   "file_extension": ".py",
   "mimetype": "text/x-python",
   "name": "python",
   "nbconvert_exporter": "python",
   "pygments_lexer": "ipython3",
   "version": "3.9.13"
  }
 },
 "nbformat": 4,
 "nbformat_minor": 5
}
